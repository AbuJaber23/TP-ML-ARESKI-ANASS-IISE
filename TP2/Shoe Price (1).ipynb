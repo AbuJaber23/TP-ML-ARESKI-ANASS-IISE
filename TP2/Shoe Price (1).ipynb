{
 "cells": [
  {
   "cell_type": "code",
   "execution_count": null,
   "metadata": {},
   "outputs": [],
   "source": [
    "# Installer la bibliothèque NumPy et Pandas\n",
    "!pip install numpy\n",
    "!pip install pandas"
   ]
  },
  {
   "cell_type": "code",
   "execution_count": 60,
   "metadata": {},
   "outputs": [],
   "source": [
    "import numpy as np  # Importer la bibliothèque NumPy pour les opérations mathématiques\n",
    "import pandas as pd  # Importer la bibliothèque pandas pour la manipulation des données\n",
    "import matplotlib.pyplot as plt  # Importer matplotlib pour la visualisation des données\n",
    "import seaborn as sns  # Importer seaborn pour des tracés statistiques plus avancés"
   ]
  },
  {
   "cell_type": "code",
   "execution_count": 61,
   "metadata": {},
   "outputs": [],
   "source": [
    "# Lire le jeu de données sur les chaussures à partir de l'URL spécifiée et le stocker dans la variable shoes_dataset\n",
    "url = \"C:/Users/sasuk/OneDrive/Documents/ML/Shoe prices.csv\"\n",
    "shoes_dataset = pd.read_csv(url)"
   ]
  },
  {
   "cell_type": "code",
   "execution_count": 12,
   "metadata": {},
   "outputs": [
    {
     "name": "stdout",
     "output_type": "stream",
     "text": [
      "<class 'pandas.core.frame.DataFrame'>\n",
      "RangeIndex: 1006 entries, 0 to 1005\n",
      "Data columns (total 8 columns):\n",
      "Brand          1006 non-null object\n",
      "Model          1006 non-null object\n",
      "Type           1006 non-null object\n",
      "Gender         1006 non-null object\n",
      "Size           1006 non-null object\n",
      "Color          1006 non-null object\n",
      "Material       1006 non-null object\n",
      "Price (USD)    1006 non-null object\n",
      "dtypes: object(8)\n",
      "memory usage: 63.0+ KB\n"
     ]
    }
   ],
   "source": [
    "# Afficher des informations sur le jeu de données des chaussures, telles que le nombre total d'entrées, les types de données de chaque colonne, et la quantité de valeurs non nulles\n",
    "shoes_dataset.info()"
   ]
  },
  {
   "cell_type": "code",
   "execution_count": 13,
   "metadata": {},
   "outputs": [
    {
     "data": {
      "text/plain": [
       "Index(['Brand', 'Model', 'Type', 'Gender', 'Size', 'Color', 'Material',\n",
       "       'Price (USD)'],\n",
       "      dtype='object')"
      ]
     },
     "execution_count": 13,
     "metadata": {},
     "output_type": "execute_result"
    }
   ],
   "source": [
    "# Afficher les noms des colonnes du jeu de données des chaussures\n",
    "shoes_dataset.columns"
   ]
  },
  {
   "cell_type": "code",
   "execution_count": 14,
   "metadata": {},
   "outputs": [
    {
     "data": {
      "text/plain": [
       "Brand          0\n",
       "Model          0\n",
       "Type           0\n",
       "Gender         0\n",
       "Size           0\n",
       "Color          0\n",
       "Material       0\n",
       "Price (USD)    0\n",
       "dtype: int64"
      ]
     },
     "execution_count": 14,
     "metadata": {},
     "output_type": "execute_result"
    }
   ],
   "source": [
    "# Calculer le nombre de valeurs manquantes dans chaque colonne du jeu de données des chaussures\n",
    "shoes_dataset.isnull().sum()\n"
   ]
  },
  {
   "cell_type": "code",
   "execution_count": 15,
   "metadata": {},
   "outputs": [
    {
     "data": {
      "text/html": [
       "<div>\n",
       "<style scoped>\n",
       "    .dataframe tbody tr th:only-of-type {\n",
       "        vertical-align: middle;\n",
       "    }\n",
       "\n",
       "    .dataframe tbody tr th {\n",
       "        vertical-align: top;\n",
       "    }\n",
       "\n",
       "    .dataframe thead th {\n",
       "        text-align: right;\n",
       "    }\n",
       "</style>\n",
       "<table border=\"1\" class=\"dataframe\">\n",
       "  <thead>\n",
       "    <tr style=\"text-align: right;\">\n",
       "      <th></th>\n",
       "      <th>Brand</th>\n",
       "      <th>Model</th>\n",
       "      <th>Type</th>\n",
       "      <th>Gender</th>\n",
       "      <th>Size</th>\n",
       "      <th>Color</th>\n",
       "      <th>Material</th>\n",
       "      <th>Price (USD)</th>\n",
       "    </tr>\n",
       "  </thead>\n",
       "  <tbody>\n",
       "    <tr>\n",
       "      <td>count</td>\n",
       "      <td>1006</td>\n",
       "      <td>1006</td>\n",
       "      <td>1006</td>\n",
       "      <td>1006</td>\n",
       "      <td>1006</td>\n",
       "      <td>1006</td>\n",
       "      <td>1006</td>\n",
       "      <td>1006</td>\n",
       "    </tr>\n",
       "    <tr>\n",
       "      <td>unique</td>\n",
       "      <td>10</td>\n",
       "      <td>239</td>\n",
       "      <td>18</td>\n",
       "      <td>2</td>\n",
       "      <td>13</td>\n",
       "      <td>82</td>\n",
       "      <td>34</td>\n",
       "      <td>33</td>\n",
       "    </tr>\n",
       "    <tr>\n",
       "      <td>top</td>\n",
       "      <td>Nike</td>\n",
       "      <td>NMD_R1</td>\n",
       "      <td>Running</td>\n",
       "      <td>Men</td>\n",
       "      <td>US 8.5</td>\n",
       "      <td>Black</td>\n",
       "      <td>Mesh</td>\n",
       "      <td>$65.00</td>\n",
       "    </tr>\n",
       "    <tr>\n",
       "      <td>freq</td>\n",
       "      <td>118</td>\n",
       "      <td>39</td>\n",
       "      <td>332</td>\n",
       "      <td>535</td>\n",
       "      <td>132</td>\n",
       "      <td>178</td>\n",
       "      <td>308</td>\n",
       "      <td>121</td>\n",
       "    </tr>\n",
       "  </tbody>\n",
       "</table>\n",
       "</div>"
      ],
      "text/plain": [
       "       Brand   Model     Type Gender    Size  Color Material Price (USD)\n",
       "count   1006    1006     1006   1006    1006   1006     1006        1006\n",
       "unique    10     239       18      2      13     82       34          33\n",
       "top     Nike  NMD_R1  Running    Men  US 8.5  Black     Mesh     $65.00 \n",
       "freq     118      39      332    535     132    178      308         121"
      ]
     },
     "execution_count": 15,
     "metadata": {},
     "output_type": "execute_result"
    }
   ],
   "source": [
    "# Afficher un résumé statistique des données du jeu de données des chaussures, y compris les mesures de tendance centrale, de dispersion et de forme\n",
    "shoes_dataset.describe()\n"
   ]
  },
  {
   "cell_type": "code",
   "execution_count": 62,
   "metadata": {},
   "outputs": [
    {
     "data": {
      "text/plain": [
       "(1006, 8)"
      ]
     },
     "execution_count": 62,
     "metadata": {},
     "output_type": "execute_result"
    }
   ],
   "source": [
    "# Afficher la forme du jeu de données des chaussures, c'est-à-dire le nombre de lignes et de colonnes\n",
    "shoes_dataset.shape\n"
   ]
  },
  {
   "cell_type": "code",
   "execution_count": 17,
   "metadata": {},
   "outputs": [
    {
     "data": {
      "text/html": [
       "<div>\n",
       "<style scoped>\n",
       "    .dataframe tbody tr th:only-of-type {\n",
       "        vertical-align: middle;\n",
       "    }\n",
       "\n",
       "    .dataframe tbody tr th {\n",
       "        vertical-align: top;\n",
       "    }\n",
       "\n",
       "    .dataframe thead th {\n",
       "        text-align: right;\n",
       "    }\n",
       "</style>\n",
       "<table border=\"1\" class=\"dataframe\">\n",
       "  <thead>\n",
       "    <tr style=\"text-align: right;\">\n",
       "      <th></th>\n",
       "      <th>Brand</th>\n",
       "      <th>Model</th>\n",
       "      <th>Type</th>\n",
       "      <th>Gender</th>\n",
       "      <th>Size</th>\n",
       "      <th>Color</th>\n",
       "      <th>Material</th>\n",
       "      <th>Price (USD)</th>\n",
       "    </tr>\n",
       "  </thead>\n",
       "  <tbody>\n",
       "    <tr>\n",
       "      <td>589</td>\n",
       "      <td>Vans</td>\n",
       "      <td>Sk8-Hi</td>\n",
       "      <td>Skate</td>\n",
       "      <td>Women</td>\n",
       "      <td>US 7.5</td>\n",
       "      <td>Red</td>\n",
       "      <td>Canvas/Suede</td>\n",
       "      <td>$70.00</td>\n",
       "    </tr>\n",
       "    <tr>\n",
       "      <td>744</td>\n",
       "      <td>Skechers</td>\n",
       "      <td>D'Lites Fresh Start</td>\n",
       "      <td>Walking</td>\n",
       "      <td>Men</td>\n",
       "      <td>US 10.5</td>\n",
       "      <td>Black</td>\n",
       "      <td>Leather</td>\n",
       "      <td>$60.00</td>\n",
       "    </tr>\n",
       "    <tr>\n",
       "      <td>739</td>\n",
       "      <td>Puma</td>\n",
       "      <td>Suede Classic+</td>\n",
       "      <td>Casual</td>\n",
       "      <td>Men</td>\n",
       "      <td>US 8.5</td>\n",
       "      <td>Black/White</td>\n",
       "      <td>Suede</td>\n",
       "      <td>$65.00</td>\n",
       "    </tr>\n",
       "    <tr>\n",
       "      <td>272</td>\n",
       "      <td>Skechers</td>\n",
       "      <td>Max Cushioning</td>\n",
       "      <td>Running</td>\n",
       "      <td>Men</td>\n",
       "      <td>US 11</td>\n",
       "      <td>Black</td>\n",
       "      <td>Mesh</td>\n",
       "      <td>$85.00</td>\n",
       "    </tr>\n",
       "  </tbody>\n",
       "</table>\n",
       "</div>"
      ],
      "text/plain": [
       "        Brand                Model     Type Gender     Size        Color  \\\n",
       "589      Vans               Sk8-Hi    Skate  Women   US 7.5          Red   \n",
       "744  Skechers  D'Lites Fresh Start  Walking    Men  US 10.5        Black   \n",
       "739      Puma       Suede Classic+   Casual    Men   US 8.5  Black/White   \n",
       "272  Skechers       Max Cushioning  Running    Men    US 11        Black   \n",
       "\n",
       "         Material Price (USD)  \n",
       "589  Canvas/Suede     $70.00   \n",
       "744       Leather     $60.00   \n",
       "739         Suede     $65.00   \n",
       "272          Mesh     $85.00   "
      ]
     },
     "execution_count": 17,
     "metadata": {},
     "output_type": "execute_result"
    }
   ],
   "source": [
    "# Afficher un échantillon aléatoire de 4 lignes du jeu de données des chaussures\n",
    "shoes_dataset.sample(4)\n"
   ]
  },
  {
   "cell_type": "code",
   "execution_count": 19,
   "metadata": {},
   "outputs": [],
   "source": [
    "# Supprimer la colonne 'Model' du jeu de données des chaussures et mettre à jour le jeu de données\n",
    "shoes_dataset = shoes_dataset.drop('Model', axis=1)\n"
   ]
  },
  {
   "cell_type": "code",
   "execution_count": 20,
   "metadata": {},
   "outputs": [
    {
     "data": {
      "text/html": [
       "<div>\n",
       "<style scoped>\n",
       "    .dataframe tbody tr th:only-of-type {\n",
       "        vertical-align: middle;\n",
       "    }\n",
       "\n",
       "    .dataframe tbody tr th {\n",
       "        vertical-align: top;\n",
       "    }\n",
       "\n",
       "    .dataframe thead th {\n",
       "        text-align: right;\n",
       "    }\n",
       "</style>\n",
       "<table border=\"1\" class=\"dataframe\">\n",
       "  <thead>\n",
       "    <tr style=\"text-align: right;\">\n",
       "      <th></th>\n",
       "      <th>Brand</th>\n",
       "      <th>Type</th>\n",
       "      <th>Gender</th>\n",
       "      <th>Size</th>\n",
       "      <th>Color</th>\n",
       "      <th>Material</th>\n",
       "      <th>Price (USD)</th>\n",
       "    </tr>\n",
       "  </thead>\n",
       "  <tbody>\n",
       "    <tr>\n",
       "      <td>0</td>\n",
       "      <td>Nike</td>\n",
       "      <td>Basketball</td>\n",
       "      <td>Men</td>\n",
       "      <td>US 10</td>\n",
       "      <td>Red/Black</td>\n",
       "      <td>Leather</td>\n",
       "      <td>$170.00</td>\n",
       "    </tr>\n",
       "    <tr>\n",
       "      <td>1</td>\n",
       "      <td>Adidas</td>\n",
       "      <td>Running</td>\n",
       "      <td>Men</td>\n",
       "      <td>US 9.5</td>\n",
       "      <td>Black</td>\n",
       "      <td>Primeknit</td>\n",
       "      <td>$180.00</td>\n",
       "    </tr>\n",
       "    <tr>\n",
       "      <td>2</td>\n",
       "      <td>Reebok</td>\n",
       "      <td>Casual</td>\n",
       "      <td>Men</td>\n",
       "      <td>US 11</td>\n",
       "      <td>White</td>\n",
       "      <td>Leather</td>\n",
       "      <td>$75.00</td>\n",
       "    </tr>\n",
       "    <tr>\n",
       "      <td>3</td>\n",
       "      <td>Converse</td>\n",
       "      <td>Casual</td>\n",
       "      <td>Women</td>\n",
       "      <td>US 8</td>\n",
       "      <td>Navy</td>\n",
       "      <td>Canvas</td>\n",
       "      <td>$55.00</td>\n",
       "    </tr>\n",
       "    <tr>\n",
       "      <td>4</td>\n",
       "      <td>Puma</td>\n",
       "      <td>Lifestyle</td>\n",
       "      <td>Women</td>\n",
       "      <td>US 7.5</td>\n",
       "      <td>Pink</td>\n",
       "      <td>Mesh</td>\n",
       "      <td>$80.00</td>\n",
       "    </tr>\n",
       "  </tbody>\n",
       "</table>\n",
       "</div>"
      ],
      "text/plain": [
       "      Brand        Type Gender    Size      Color   Material Price (USD)\n",
       "0      Nike  Basketball    Men   US 10  Red/Black    Leather    $170.00 \n",
       "1    Adidas     Running    Men  US 9.5      Black  Primeknit    $180.00 \n",
       "2    Reebok      Casual    Men   US 11      White    Leather     $75.00 \n",
       "3  Converse      Casual  Women    US 8       Navy     Canvas     $55.00 \n",
       "4      Puma   Lifestyle  Women  US 7.5       Pink       Mesh     $80.00 "
      ]
     },
     "execution_count": 20,
     "metadata": {},
     "output_type": "execute_result"
    }
   ],
   "source": [
    "# Afficher les premières lignes du jeu de données des chaussures après avoir supprimé la colonne 'Model'\n",
    "shoes_dataset.head()\n"
   ]
  },
  {
   "cell_type": "code",
   "execution_count": 21,
   "metadata": {},
   "outputs": [
    {
     "data": {
      "text/plain": [
       "Nike           118\n",
       "Puma           100\n",
       "Vans           100\n",
       "Converse       100\n",
       "New Balance    100\n",
       "Reebok         100\n",
       "Adidas         100\n",
       "Asics          100\n",
       "Fila            99\n",
       "Skechers        89\n",
       "Name: Brand, dtype: int64"
      ]
     },
     "execution_count": 21,
     "metadata": {},
     "output_type": "execute_result"
    }
   ],
   "source": [
    "# Afficher le décompte du nombre de chaussures par marque dans la colonne 'Brand' du jeu de données des chaussures\n",
    "shoes_dataset['Brand'].value_counts()"
   ]
  },
  {
   "cell_type": "code",
   "execution_count": 22,
   "metadata": {},
   "outputs": [
    {
     "data": {
      "text/plain": [
       "<matplotlib.axes._subplots.AxesSubplot at 0x1fb3c178fc8>"
      ]
     },
     "execution_count": 22,
     "metadata": {},
     "output_type": "execute_result"
    },
    {
     "data": {
      "image/png": "[encoded data removed]",
      "text/plain": [
       "<Figure size 432x288 with 1 Axes>"
      ]
     },
     "metadata": {
      "needs_background": "light"
     },
     "output_type": "display_data"
    }
   ],
   "source": [
    "# Tracer un diagramme à barres montrant le décompte du nombre de chaussures par marque dans la colonne 'Brand' du jeu de données des chaussures\n",
    "shoes_dataset['Brand'].value_counts().plot(kind='bar', legend='false')"
   ]
  },
  {
   "cell_type": "code",
   "execution_count": 25,
   "metadata": {},
   "outputs": [
    {
     "data": {
      "image/png": "[encoded data removed]",
      "text/plain": [
       "<Figure size 432x288 with 1 Axes>"
      ]
     },
     "metadata": {
      "needs_background": "light"
     },
     "output_type": "display_data"
    }
   ],
   "source": [
    "# Tracer un diagramme à barres montrant le décompte du nombre de chaussures par marque dans la colonne 'Brand' du jeu de données des chaussures\n",
    "shoes_dataset['Brand'].value_counts().plot(kind='bar', legend=False)\n",
    "plt.title('Brand Counts')  # Ajouter un titre au graphique\n",
    "plt.xlabel('Brand names')  # Ajouter une étiquette à l'axe des x\n",
    "plt.ylabel('Counts')  # Ajouter une étiquette à l'axe des y\n",
    "plt.show()\n"
   ]
  },
  {
   "cell_type": "code",
   "execution_count": 26,
   "metadata": {},
   "outputs": [],
   "source": [
    "# Convertir les valeurs de la colonne 'Type' en minuscules dans le jeu de données des chaussures\n",
    "shoes_dataset['Type'] = shoes_dataset['Type'].str.lower()"
   ]
  },
  {
   "cell_type": "code",
   "execution_count": 27,
   "metadata": {},
   "outputs": [
    {
     "data": {
      "text/plain": [
       "running           332\n",
       "casual            243\n",
       "skate             100\n",
       "fashion            86\n",
       "lifestyle          76\n",
       "basketball         52\n",
       "walking            46\n",
       "training           34\n",
       "crossfit           14\n",
       "trail               6\n",
       "weightlifting       4\n",
       "trail running       3\n",
       "slides              3\n",
       "retro               3\n",
       "hiking              2\n",
       "racing              1\n",
       "cross-training      1\n",
       "Name: Type, dtype: int64"
      ]
     },
     "execution_count": 27,
     "metadata": {},
     "output_type": "execute_result"
    }
   ],
   "source": [
    "# Afficher le décompte du nombre de chaussures par type dans la colonne 'Type' du jeu de données des chaussures\n",
    "shoes_dataset['Type'].value_counts()"
   ]
  },
  {
   "cell_type": "code",
   "execution_count": 28,
   "metadata": {},
   "outputs": [
    {
     "data": {
      "image/png": "[encoded data removed]",
      "text/plain": [
       "<Figure size 432x288 with 1 Axes>"
      ]
     },
     "metadata": {
      "needs_background": "light"
     },
     "output_type": "display_data"
    }
   ],
   "source": [
    "# Tracer un diagramme à barres montrant le décompte du nombre de chaussures par type dans la colonne 'Type' du jeu de données des chaussures\n",
    "shoes_dataset['Type'].value_counts().plot(kind='bar', legend=False, color='green')\n",
    "plt.title('Type Counts')  # Ajouter un titre au graphique\n",
    "plt.xlabel('Type names')  # Ajouter une étiquette à l'axe des x\n",
    "plt.ylabel('Counts')  # Ajouter une étiquette à l'axe des y\n",
    "plt.show()\n"
   ]
  },
  {
   "cell_type": "code",
   "execution_count": 29,
   "metadata": {},
   "outputs": [],
   "source": [
    "# Définir une fonction pour ajouter un type à chaque chaussure en fonction de certains critères\n",
    "def add_type(inpt):\n",
    "    if inpt == 'casual' or inpt == 'fashion' or inpt == 'lifestyle' or inpt == 'slides' or inpt == 'retro':\n",
    "        return inpt\n",
    "    else:\n",
    "        return 'sport'\n",
    "\n",
    "# Appliquer la fonction add_type à la colonne 'Type' du jeu de données des chaussures\n",
    "shoes_dataset['Type'] = shoes_dataset['Type'].apply(add_type)\n"
   ]
  },
  {
   "cell_type": "code",
   "execution_count": 30,
   "metadata": {},
   "outputs": [
    {
     "data": {
      "text/plain": [
       "sport        595\n",
       "casual       243\n",
       "fashion       86\n",
       "lifestyle     76\n",
       "retro          3\n",
       "slides         3\n",
       "Name: Type, dtype: int64"
      ]
     },
     "execution_count": 30,
     "metadata": {},
     "output_type": "execute_result"
    }
   ],
   "source": [
    "# Afficher le décompte du nombre de chaussures par type dans la colonne 'Type' du jeu de données des chaussures après avoir appliqué la fonction add_type\n",
    "shoes_dataset['Type'].value_counts()\n"
   ]
  },
  {
   "cell_type": "code",
   "execution_count": 31,
   "metadata": {},
   "outputs": [
    {
     "data": {
      "image/png": "[encoded data removed]",
      "text/plain": [
       "<Figure size 432x288 with 1 Axes>"
      ]
     },
     "metadata": {
      "needs_background": "light"
     },
     "output_type": "display_data"
    }
   ],
   "source": [
    "# Tracer un diagramme à barres montrant le décompte du nombre de chaussures par type dans la colonne 'Type' du jeu de données des chaussures après avoir appliqué la fonction add_type\n",
    "shoes_dataset['Type'].value_counts().plot(kind='bar', legend=False, color='green')\n",
    "plt.title('New Type Counts')  # Ajouter un titre au graphique\n",
    "plt.xlabel('Type names')  # Ajouter une étiquette à l'axe des x\n",
    "plt.ylabel('Counts')  # Ajouter une étiquette à l'axe des y\n",
    "plt.show()"
   ]
  },
  {
   "cell_type": "code",
   "execution_count": 32,
   "metadata": {},
   "outputs": [
    {
     "data": {
      "text/plain": [
       "Men      535\n",
       "Women    471\n",
       "Name: Gender, dtype: int64"
      ]
     },
     "execution_count": 32,
     "metadata": {},
     "output_type": "execute_result"
    }
   ],
   "source": [
    "# Afficher le décompte du nombre de chaussures par genre dans la colonne 'Gender' du jeu de données des chaussures\n",
    "shoes_dataset['Gender'].value_counts()"
   ]
  },
  {
   "cell_type": "code",
   "execution_count": 33,
   "metadata": {},
   "outputs": [
    {
     "data": {
      "image/png": "[encoded data removed]",
      "text/plain": [
       "<Figure size 432x288 with 1 Axes>"
      ]
     },
     "metadata": {},
     "output_type": "display_data"
    }
   ],
   "source": [
    "# Tracer un diagramme circulaire montrant la répartition du nombre de chaussures par genre dans la colonne 'Gender' du jeu de données des chaussures\n",
    "shoes_dataset['Gender'].value_counts().plot(kind='pie', autopct='%1.1f%%', startangle=90)\n",
    "plt.title('Gender Distribution')  # Ajouter un titre au graphique\n",
    "plt.axis('equal')  # Assurer que le graphique est un cercle (aspect égal)\n",
    "plt.show()\n"
   ]
  },
  {
   "cell_type": "code",
   "execution_count": 63,
   "metadata": {},
   "outputs": [],
   "source": [
    "# Remplacer les occurrences de 'US' par une chaîne vide dans la colonne 'Size' du jeu de données des chaussures\n",
    "shoes_dataset['Size'] = shoes_dataset['Size'].str.replace('US', '')\n"
   ]
  },
  {
   "cell_type": "code",
   "execution_count": 35,
   "metadata": {},
   "outputs": [
    {
     "data": {
      "text/html": [
       "<div>\n",
       "<style scoped>\n",
       "    .dataframe tbody tr th:only-of-type {\n",
       "        vertical-align: middle;\n",
       "    }\n",
       "\n",
       "    .dataframe tbody tr th {\n",
       "        vertical-align: top;\n",
       "    }\n",
       "\n",
       "    .dataframe thead th {\n",
       "        text-align: right;\n",
       "    }\n",
       "</style>\n",
       "<table border=\"1\" class=\"dataframe\">\n",
       "  <thead>\n",
       "    <tr style=\"text-align: right;\">\n",
       "      <th></th>\n",
       "      <th>Brand</th>\n",
       "      <th>Type</th>\n",
       "      <th>Gender</th>\n",
       "      <th>Size</th>\n",
       "      <th>Color</th>\n",
       "      <th>Material</th>\n",
       "      <th>Price (USD)</th>\n",
       "    </tr>\n",
       "  </thead>\n",
       "  <tbody>\n",
       "    <tr>\n",
       "      <td>0</td>\n",
       "      <td>Nike</td>\n",
       "      <td>sport</td>\n",
       "      <td>Men</td>\n",
       "      <td>10</td>\n",
       "      <td>Red/Black</td>\n",
       "      <td>Leather</td>\n",
       "      <td>$170.00</td>\n",
       "    </tr>\n",
       "    <tr>\n",
       "      <td>1</td>\n",
       "      <td>Adidas</td>\n",
       "      <td>sport</td>\n",
       "      <td>Men</td>\n",
       "      <td>9.5</td>\n",
       "      <td>Black</td>\n",
       "      <td>Primeknit</td>\n",
       "      <td>$180.00</td>\n",
       "    </tr>\n",
       "    <tr>\n",
       "      <td>2</td>\n",
       "      <td>Reebok</td>\n",
       "      <td>casual</td>\n",
       "      <td>Men</td>\n",
       "      <td>11</td>\n",
       "      <td>White</td>\n",
       "      <td>Leather</td>\n",
       "      <td>$75.00</td>\n",
       "    </tr>\n",
       "    <tr>\n",
       "      <td>3</td>\n",
       "      <td>Converse</td>\n",
       "      <td>casual</td>\n",
       "      <td>Women</td>\n",
       "      <td>8</td>\n",
       "      <td>Navy</td>\n",
       "      <td>Canvas</td>\n",
       "      <td>$55.00</td>\n",
       "    </tr>\n",
       "    <tr>\n",
       "      <td>4</td>\n",
       "      <td>Puma</td>\n",
       "      <td>lifestyle</td>\n",
       "      <td>Women</td>\n",
       "      <td>7.5</td>\n",
       "      <td>Pink</td>\n",
       "      <td>Mesh</td>\n",
       "      <td>$80.00</td>\n",
       "    </tr>\n",
       "  </tbody>\n",
       "</table>\n",
       "</div>"
      ],
      "text/plain": [
       "      Brand       Type Gender  Size      Color   Material Price (USD)\n",
       "0      Nike      sport    Men    10  Red/Black    Leather    $170.00 \n",
       "1    Adidas      sport    Men   9.5      Black  Primeknit    $180.00 \n",
       "2    Reebok     casual    Men    11      White    Leather     $75.00 \n",
       "3  Converse     casual  Women     8       Navy     Canvas     $55.00 \n",
       "4      Puma  lifestyle  Women   7.5       Pink       Mesh     $80.00 "
      ]
     },
     "execution_count": 35,
     "metadata": {},
     "output_type": "execute_result"
    }
   ],
   "source": [
    "# Afficher les premières lignes du jeu de données des chaussures après avoir remplacé 'US' dans la colonne 'Size'\n",
    "shoes_dataset.head()\n"
   ]
  },
  {
   "cell_type": "code",
   "execution_count": 36,
   "metadata": {},
   "outputs": [],
   "source": [
    "# Convertir les valeurs de la colonne 'Size' en type float dans le jeu de données des chaussures\n",
    "shoes_dataset['Size'] = shoes_dataset['Size'].astype(float)\n"
   ]
  },
  {
   "cell_type": "code",
   "execution_count": 37,
   "metadata": {},
   "outputs": [
    {
     "name": "stdout",
     "output_type": "stream",
     "text": [
      "<class 'pandas.core.frame.DataFrame'>\n",
      "RangeIndex: 1006 entries, 0 to 1005\n",
      "Data columns (total 7 columns):\n",
      "Brand          1006 non-null object\n",
      "Type           1006 non-null object\n",
      "Gender         1006 non-null object\n",
      "Size           1006 non-null float64\n",
      "Color          1006 non-null object\n",
      "Material       1006 non-null object\n",
      "Price (USD)    1006 non-null object\n",
      "dtypes: float64(1), object(6)\n",
      "memory usage: 55.1+ KB\n"
     ]
    }
   ],
   "source": [
    "# Afficher des informations mises à jour sur le jeu de données des chaussures après avoir converti la colonne 'Size' en type float\n",
    "shoes_dataset.info()\n"
   ]
  },
  {
   "cell_type": "code",
   "execution_count": 38,
   "metadata": {},
   "outputs": [],
   "source": [
    "# Convertir les valeurs de la colonne 'Color' en minuscules dans le jeu de données des chaussures\n",
    "shoes_dataset['Color'] = shoes_dataset['Color'].str.lower()\n"
   ]
  },
  {
   "cell_type": "code",
   "execution_count": 39,
   "metadata": {},
   "outputs": [
    {
     "data": {
      "text/plain": [
       "black          178\n",
       "white          139\n",
       "grey           101\n",
       "black/white    100\n",
       "pink            64\n",
       "              ... \n",
       "cinder           1\n",
       "true white       1\n",
       "white/gold       1\n",
       "zebra            1\n",
       "black/blue       1\n",
       "Name: Color, Length: 82, dtype: int64"
      ]
     },
     "execution_count": 39,
     "metadata": {},
     "output_type": "execute_result"
    }
   ],
   "source": [
    "# Afficher le décompte du nombre de chaussures par couleur dans la colonne 'Color' du jeu de données des chaussures\n",
    "shoes_dataset['Color'].value_counts()\n"
   ]
  },
  {
   "cell_type": "code",
   "execution_count": 41,
   "metadata": {},
   "outputs": [
    {
     "data": {
      "image/png": "[encoded data removed]",
      "text/plain": [
       "<Figure size 432x288 with 1 Axes>"
      ]
     },
     "metadata": {
      "needs_background": "light"
     },
     "output_type": "display_data"
    }
   ],
   "source": [
    "# Tracer un diagramme à barres montrant le décompte du nombre de chaussures par couleur dans la colonne 'Color' du jeu de données des chaussures\n",
    "shoes_dataset['Color'].value_counts().plot(kind='bar', legend=False, color='green')\n",
    "plt.title('Color Counts')  # Ajouter un titre au graphique\n",
    "plt.xlabel('Color names')  # Ajouter une étiquette à l'axe des x\n",
    "plt.ylabel('Counts')  # Ajouter une étiquette à l'axe des y\n",
    "plt.show()\n"
   ]
  },
  {
   "cell_type": "code",
   "execution_count": 42,
   "metadata": {},
   "outputs": [],
   "source": [
    "# Définir une fonction pour ajouter une couleur à chaque chaussure en fonction de certains critères\n",
    "def add_Color(inpt):\n",
    "    if inpt == 'black' or inpt == 'white' or inpt == 'grey' or inpt == 'black/white' or inpt == 'pink':\n",
    "        return inpt\n",
    "    else:\n",
    "        return 'other'\n",
    "\n",
    "# Appliquer la fonction add_Color à la colonne 'Color' du jeu de données des chaussures\n",
    "shoes_dataset['Color'] = shoes_dataset['Color'].apply(add_Color)\n"
   ]
  },
  {
   "cell_type": "code",
   "execution_count": 43,
   "metadata": {},
   "outputs": [
    {
     "data": {
      "text/plain": [
       "other          424\n",
       "black          178\n",
       "white          139\n",
       "grey           101\n",
       "black/white    100\n",
       "pink            64\n",
       "Name: Color, dtype: int64"
      ]
     },
     "execution_count": 43,
     "metadata": {},
     "output_type": "execute_result"
    }
   ],
   "source": [
    "# Afficher le décompte du nombre de chaussures par couleur dans la colonne 'Color' du jeu de données des chaussures après avoir appliqué la fonction add_Color\n",
    "shoes_dataset['Color'].value_counts()\n"
   ]
  },
  {
   "cell_type": "code",
   "execution_count": 45,
   "metadata": {},
   "outputs": [
    {
     "data": {
      "image/png": "[encoded data removed]",
      "text/plain": [
       "<Figure size 432x288 with 1 Axes>"
      ]
     },
     "metadata": {
      "needs_background": "light"
     },
     "output_type": "display_data"
    }
   ],
   "source": [
    "# Tracer un diagramme à barres montrant le décompte du nombre de chaussures par couleur dans la colonne 'Color' du jeu de données des chaussures après avoir appliqué la fonction add_Color\n",
    "shoes_dataset['Color'].value_counts().plot(kind='bar', legend=False, color='green')\n",
    "plt.title('New Color Counts')  # Ajouter un titre au graphique\n",
    "plt.xlabel('Color names')  # Ajouter une étiquette à l'axe des x\n",
    "plt.ylabel('Counts')  # Ajouter une étiquette à l'axe des y\n",
    "plt.show()\n"
   ]
  },
  {
   "cell_type": "code",
   "execution_count": 46,
   "metadata": {},
   "outputs": [],
   "source": [
    "# Convertir les valeurs de la colonne 'Material' en minuscules dans le jeu de données des chaussures\n",
    "shoes_dataset['Material'] = shoes_dataset['Material'].str.lower()"
   ]
  },
  {
   "cell_type": "code",
   "execution_count": 47,
   "metadata": {},
   "outputs": [
    {
     "data": {
      "text/plain": [
       "mesh                    308\n",
       "leather                 168\n",
       "canvas                  147\n",
       "primeknit                68\n",
       "leather/synthetic        47\n",
       "synthetic                46\n",
       "mesh/synthetic           36\n",
       "suede/mesh               32\n",
       "suede/canvas             29\n",
       "suede                    19\n",
       "flyknit                  17\n",
       "knit                     15\n",
       "nylon                    13\n",
       "canvas/suede              9\n",
       "synthetic/mesh            7\n",
       "suede/leather             6\n",
       "synthetic/leather         6\n",
       "suede/nylon               5\n",
       "flexweave                 4\n",
       "nylon/suede               3\n",
       "knit/synthetic            3\n",
       "leather/suede             3\n",
       "suede/textile             3\n",
       "synthetic/textile         2\n",
       "flexweave/synthetic       1\n",
       "mesh/leather              1\n",
       "textile/leather           1\n",
       "mesh/suede                1\n",
       "canvas/leather            1\n",
       "textile                   1\n",
       "primeknit/synthetic       1\n",
       "leather/mesh              1\n",
       "flexweave/knit            1\n",
       "flexweave/cushioning      1\n",
       "Name: Material, dtype: int64"
      ]
     },
     "execution_count": 47,
     "metadata": {},
     "output_type": "execute_result"
    }
   ],
   "source": [
    "# Afficher le décompte du nombre de chaussures par matériau dans la colonne 'Material' du jeu de données des chaussures\n",
    "shoes_dataset['Material'].value_counts()\n"
   ]
  },
  {
   "cell_type": "code",
   "execution_count": 49,
   "metadata": {},
   "outputs": [
    {
     "data": {
      "image/png": "[encoded data removed]",
      "text/plain": [
       "<Figure size 432x288 with 1 Axes>"
      ]
     },
     "metadata": {
      "needs_background": "light"
     },
     "output_type": "display_data"
    }
   ],
   "source": [
    "# Tracer un diagramme à barres montrant le décompte du nombre de chaussures par matériau dans la colonne 'Material' du jeu de données des chaussures\n",
    "shoes_dataset['Material'].value_counts().plot(kind='bar', legend=False, color='green')\n",
    "plt.title('Material Counts')  # Ajouter un titre au graphique\n",
    "plt.xlabel('Material names')  # Ajouter une étiquette à l'axe des x\n",
    "plt.ylabel('Counts')  # Ajouter une étiquette à l'axe des y\n",
    "plt.show()\n"
   ]
  },
  {
   "cell_type": "code",
   "execution_count": 50,
   "metadata": {},
   "outputs": [],
   "source": [
    "# Définir une fonction pour ajouter un matériau à chaque chaussure en fonction de certains critères\n",
    "def add_Material(inpt):\n",
    "    if inpt == 'mech' or inpt == 'leather' or inpt == 'canvas' or inpt == 'primeknit' or inpt == 'synthetic' or inpt == 'suede' or inpt == 'knit' or inpt == 'nylon':\n",
    "        return inpt\n",
    "    else:\n",
    "        return 'other'\n",
    "\n",
    "# Appliquer la fonction add_Material à la colonne 'Material' du jeu de données des chaussures\n",
    "shoes_dataset['Material'] = shoes_dataset['Material'].apply(add_Material)\n"
   ]
  },
  {
   "cell_type": "code",
   "execution_count": 51,
   "metadata": {},
   "outputs": [
    {
     "data": {
      "text/plain": [
       "other        530\n",
       "leather      168\n",
       "canvas       147\n",
       "primeknit     68\n",
       "synthetic     46\n",
       "suede         19\n",
       "knit          15\n",
       "nylon         13\n",
       "Name: Material, dtype: int64"
      ]
     },
     "execution_count": 51,
     "metadata": {},
     "output_type": "execute_result"
    }
   ],
   "source": [
    "# Afficher le décompte du nombre de chaussures par matériau dans la colonne 'Material' du jeu de données des chaussures après avoir appliqué la fonction add_Material\n",
    "shoes_dataset['Material'].value_counts()\n"
   ]
  },
  {
   "cell_type": "code",
   "execution_count": 53,
   "metadata": {},
   "outputs": [
    {
     "data": {
      "image/png": "[encoded data removed]",
      "text/plain": [
       "<Figure size 432x288 with 1 Axes>"
      ]
     },
     "metadata": {
      "needs_background": "light"
     },
     "output_type": "display_data"
    }
   ],
   "source": [
    "# Tracer un diagramme à barres montrant le décompte du nombre de chaussures par matériau dans la colonne 'Material' du jeu de données des chaussures après avoir appliqué la fonction add_Material\n",
    "shoes_dataset['Material'].value_counts().plot(kind='bar', legend=False, color='green')\n",
    "plt.title('New Material Counts')  # Ajouter un titre au graphique\n",
    "plt.xlabel('Material names')  # Ajouter une étiquette à l'axe des x\n",
    "plt.ylabel('Counts')  # Ajouter une étiquette à l'axe des y\n",
    "plt.show()\n"
   ]
  },
  {
   "cell_type": "code",
   "execution_count": 54,
   "metadata": {},
   "outputs": [
    {
     "data": {
      "text/html": [
       "<div>\n",
       "<style scoped>\n",
       "    .dataframe tbody tr th:only-of-type {\n",
       "        vertical-align: middle;\n",
       "    }\n",
       "\n",
       "    .dataframe tbody tr th {\n",
       "        vertical-align: top;\n",
       "    }\n",
       "\n",
       "    .dataframe thead th {\n",
       "        text-align: right;\n",
       "    }\n",
       "</style>\n",
       "<table border=\"1\" class=\"dataframe\">\n",
       "  <thead>\n",
       "    <tr style=\"text-align: right;\">\n",
       "      <th></th>\n",
       "      <th>Brand</th>\n",
       "      <th>Type</th>\n",
       "      <th>Gender</th>\n",
       "      <th>Size</th>\n",
       "      <th>Color</th>\n",
       "      <th>Material</th>\n",
       "      <th>Price (USD)</th>\n",
       "    </tr>\n",
       "  </thead>\n",
       "  <tbody>\n",
       "    <tr>\n",
       "      <td>0</td>\n",
       "      <td>Nike</td>\n",
       "      <td>sport</td>\n",
       "      <td>Men</td>\n",
       "      <td>10.0</td>\n",
       "      <td>other</td>\n",
       "      <td>leather</td>\n",
       "      <td>170.0</td>\n",
       "    </tr>\n",
       "    <tr>\n",
       "      <td>1</td>\n",
       "      <td>Adidas</td>\n",
       "      <td>sport</td>\n",
       "      <td>Men</td>\n",
       "      <td>9.5</td>\n",
       "      <td>black</td>\n",
       "      <td>primeknit</td>\n",
       "      <td>180.0</td>\n",
       "    </tr>\n",
       "    <tr>\n",
       "      <td>2</td>\n",
       "      <td>Reebok</td>\n",
       "      <td>casual</td>\n",
       "      <td>Men</td>\n",
       "      <td>11.0</td>\n",
       "      <td>white</td>\n",
       "      <td>leather</td>\n",
       "      <td>75.0</td>\n",
       "    </tr>\n",
       "    <tr>\n",
       "      <td>3</td>\n",
       "      <td>Converse</td>\n",
       "      <td>casual</td>\n",
       "      <td>Women</td>\n",
       "      <td>8.0</td>\n",
       "      <td>other</td>\n",
       "      <td>canvas</td>\n",
       "      <td>55.0</td>\n",
       "    </tr>\n",
       "    <tr>\n",
       "      <td>4</td>\n",
       "      <td>Puma</td>\n",
       "      <td>lifestyle</td>\n",
       "      <td>Women</td>\n",
       "      <td>7.5</td>\n",
       "      <td>pink</td>\n",
       "      <td>other</td>\n",
       "      <td>80.0</td>\n",
       "    </tr>\n",
       "  </tbody>\n",
       "</table>\n",
       "</div>"
      ],
      "text/plain": [
       "      Brand       Type Gender  Size  Color   Material  Price (USD)\n",
       "0      Nike      sport    Men  10.0  other    leather        170.0\n",
       "1    Adidas      sport    Men   9.5  black  primeknit        180.0\n",
       "2    Reebok     casual    Men  11.0  white    leather         75.0\n",
       "3  Converse     casual  Women   8.0  other     canvas         55.0\n",
       "4      Puma  lifestyle  Women   7.5   pink      other         80.0"
      ]
     },
     "execution_count": 54,
     "metadata": {},
     "output_type": "execute_result"
    }
   ],
   "source": [
    "# Supprimer le symbole '$' des valeurs de la colonne 'Price (USD)' et convertir les valeurs en type float dans le jeu de données des chaussures\n",
    "shoes_dataset['Price (USD)'] = shoes_dataset['Price (USD)'].str.replace('$', '').astype(float)\n",
    "\n",
    "# Afficher les cinq premières lignes du jeu de données des chaussures après avoir modifié la colonne 'Price (USD)'\n",
    "shoes_dataset.head(5)\n"
   ]
  },
  {
   "cell_type": "code",
   "execution_count": 55,
   "metadata": {},
   "outputs": [
    {
     "data": {
      "text/plain": [
       "<matplotlib.axes._subplots.AxesSubplot at 0x1fb3c4b9e88>"
      ]
     },
     "execution_count": 55,
     "metadata": {},
     "output_type": "execute_result"
    },
    {
     "data": {
      "image/png": "[encoded data removed]",
      "text/plain": [
       "<Figure size 432x288 with 1 Axes>"
      ]
     },
     "metadata": {},
     "output_type": "display_data"
    }
   ],
   "source": [
    "# Définir le style seaborn par défaut\n",
    "sns.set()\n",
    "\n",
    "# Tracer un nuage de points montrant la relation entre la marque et le prix des chaussures dans le jeu de données des chaussures\n",
    "sns.scatterplot(data=shoes_dataset, x=\"Brand\", y=\"Price (USD)\")\n"
   ]
  },
  {
   "cell_type": "code",
   "execution_count": 56,
   "metadata": {},
   "outputs": [
    {
     "name": "stdout",
     "output_type": "stream",
     "text": [
      "<class 'pandas.core.frame.DataFrame'>\n",
      "RangeIndex: 1006 entries, 0 to 1005\n",
      "Data columns (total 7 columns):\n",
      "Brand          1006 non-null object\n",
      "Type           1006 non-null object\n",
      "Gender         1006 non-null object\n",
      "Size           1006 non-null float64\n",
      "Color          1006 non-null object\n",
      "Material       1006 non-null object\n",
      "Price (USD)    1006 non-null float64\n",
      "dtypes: float64(2), object(5)\n",
      "memory usage: 55.1+ KB\n"
     ]
    }
   ],
   "source": [
    "# Afficher des informations sur le jeu de données des chaussures\n",
    "shoes_dataset.info()\n"
   ]
  },
  {
   "cell_type": "code",
   "execution_count": 57,
   "metadata": {},
   "outputs": [
    {
     "name": "stdout",
     "output_type": "stream",
     "text": [
      "<class 'pandas.core.frame.DataFrame'>\n",
      "RangeIndex: 1006 entries, 0 to 1005\n",
      "Data columns (total 34 columns):\n",
      "Size                  1006 non-null float64\n",
      "Price (USD)           1006 non-null float64\n",
      "Brand_Adidas          1006 non-null int32\n",
      "Brand_Asics           1006 non-null int32\n",
      "Brand_Converse        1006 non-null int32\n",
      "Brand_Fila            1006 non-null int32\n",
      "Brand_New Balance     1006 non-null int32\n",
      "Brand_Nike            1006 non-null int32\n",
      "Brand_Puma            1006 non-null int32\n",
      "Brand_Reebok          1006 non-null int32\n",
      "Brand_Skechers        1006 non-null int32\n",
      "Brand_Vans            1006 non-null int32\n",
      "Type_casual           1006 non-null int32\n",
      "Type_fashion          1006 non-null int32\n",
      "Type_lifestyle        1006 non-null int32\n",
      "Type_retro            1006 non-null int32\n",
      "Type_slides           1006 non-null int32\n",
      "Type_sport            1006 non-null int32\n",
      "Gender_Men            1006 non-null int32\n",
      "Gender_Women          1006 non-null int32\n",
      "Color_black           1006 non-null int32\n",
      "Color_black/white     1006 non-null int32\n",
      "Color_grey            1006 non-null int32\n",
      "Color_other           1006 non-null int32\n",
      "Color_pink            1006 non-null int32\n",
      "Color_white           1006 non-null int32\n",
      "Material_canvas       1006 non-null int32\n",
      "Material_knit         1006 non-null int32\n",
      "Material_leather      1006 non-null int32\n",
      "Material_nylon        1006 non-null int32\n",
      "Material_other        1006 non-null int32\n",
      "Material_primeknit    1006 non-null int32\n",
      "Material_suede        1006 non-null int32\n",
      "Material_synthetic    1006 non-null int32\n",
      "dtypes: float64(2), int32(32)\n",
      "memory usage: 141.6 KB\n"
     ]
    }
   ],
   "source": [
    "# Convertir les variables catégorielles en variables indicatrices (dummy variables) dans le jeu de données des chaussures\n",
    "shoes_dataset = pd.get_dummies(shoes_dataset, dtype=int)\n",
    "\n",
    "# Afficher les cinq premières lignes du jeu de données des chaussures après avoir converti les variables catégorielles en variables indicatrices\n",
    "shoes_dataset.head(5)\n",
    "\n",
    "# Afficher des informations mises à jour sur le jeu de données des chaussures après avoir converti les variables catégorielles en variables indicatrices\n",
    "shoes_dataset.info()\n"
   ]
  },
  {
   "cell_type": "code",
   "execution_count": 58,
   "metadata": {},
   "outputs": [
    {
     "data": {
      "text/html": [
       "<div>\n",
       "<style scoped>\n",
       "    .dataframe tbody tr th:only-of-type {\n",
       "        vertical-align: middle;\n",
       "    }\n",
       "\n",
       "    .dataframe tbody tr th {\n",
       "        vertical-align: top;\n",
       "    }\n",
       "\n",
       "    .dataframe thead th {\n",
       "        text-align: right;\n",
       "    }\n",
       "</style>\n",
       "<table border=\"1\" class=\"dataframe\">\n",
       "  <thead>\n",
       "    <tr style=\"text-align: right;\">\n",
       "      <th></th>\n",
       "      <th>Size</th>\n",
       "      <th>Brand_Adidas</th>\n",
       "      <th>Brand_Asics</th>\n",
       "      <th>Brand_Converse</th>\n",
       "      <th>Brand_Fila</th>\n",
       "      <th>Brand_New Balance</th>\n",
       "      <th>Brand_Nike</th>\n",
       "      <th>Brand_Puma</th>\n",
       "      <th>Brand_Reebok</th>\n",
       "      <th>Brand_Skechers</th>\n",
       "      <th>...</th>\n",
       "      <th>Color_pink</th>\n",
       "      <th>Color_white</th>\n",
       "      <th>Material_canvas</th>\n",
       "      <th>Material_knit</th>\n",
       "      <th>Material_leather</th>\n",
       "      <th>Material_nylon</th>\n",
       "      <th>Material_other</th>\n",
       "      <th>Material_primeknit</th>\n",
       "      <th>Material_suede</th>\n",
       "      <th>Material_synthetic</th>\n",
       "    </tr>\n",
       "  </thead>\n",
       "  <tbody>\n",
       "    <tr>\n",
       "      <td>0</td>\n",
       "      <td>10.0</td>\n",
       "      <td>0</td>\n",
       "      <td>0</td>\n",
       "      <td>0</td>\n",
       "      <td>0</td>\n",
       "      <td>0</td>\n",
       "      <td>1</td>\n",
       "      <td>0</td>\n",
       "      <td>0</td>\n",
       "      <td>0</td>\n",
       "      <td>...</td>\n",
       "      <td>0</td>\n",
       "      <td>0</td>\n",
       "      <td>0</td>\n",
       "      <td>0</td>\n",
       "      <td>1</td>\n",
       "      <td>0</td>\n",
       "      <td>0</td>\n",
       "      <td>0</td>\n",
       "      <td>0</td>\n",
       "      <td>0</td>\n",
       "    </tr>\n",
       "    <tr>\n",
       "      <td>1</td>\n",
       "      <td>9.5</td>\n",
       "      <td>1</td>\n",
       "      <td>0</td>\n",
       "      <td>0</td>\n",
       "      <td>0</td>\n",
       "      <td>0</td>\n",
       "      <td>0</td>\n",
       "      <td>0</td>\n",
       "      <td>0</td>\n",
       "      <td>0</td>\n",
       "      <td>...</td>\n",
       "      <td>0</td>\n",
       "      <td>0</td>\n",
       "      <td>0</td>\n",
       "      <td>0</td>\n",
       "      <td>0</td>\n",
       "      <td>0</td>\n",
       "      <td>0</td>\n",
       "      <td>1</td>\n",
       "      <td>0</td>\n",
       "      <td>0</td>\n",
       "    </tr>\n",
       "    <tr>\n",
       "      <td>2</td>\n",
       "      <td>11.0</td>\n",
       "      <td>0</td>\n",
       "      <td>0</td>\n",
       "      <td>0</td>\n",
       "      <td>0</td>\n",
       "      <td>0</td>\n",
       "      <td>0</td>\n",
       "      <td>0</td>\n",
       "      <td>1</td>\n",
       "      <td>0</td>\n",
       "      <td>...</td>\n",
       "      <td>0</td>\n",
       "      <td>1</td>\n",
       "      <td>0</td>\n",
       "      <td>0</td>\n",
       "      <td>1</td>\n",
       "      <td>0</td>\n",
       "      <td>0</td>\n",
       "      <td>0</td>\n",
       "      <td>0</td>\n",
       "      <td>0</td>\n",
       "    </tr>\n",
       "    <tr>\n",
       "      <td>3</td>\n",
       "      <td>8.0</td>\n",
       "      <td>0</td>\n",
       "      <td>0</td>\n",
       "      <td>1</td>\n",
       "      <td>0</td>\n",
       "      <td>0</td>\n",
       "      <td>0</td>\n",
       "      <td>0</td>\n",
       "      <td>0</td>\n",
       "      <td>0</td>\n",
       "      <td>...</td>\n",
       "      <td>0</td>\n",
       "      <td>0</td>\n",
       "      <td>1</td>\n",
       "      <td>0</td>\n",
       "      <td>0</td>\n",
       "      <td>0</td>\n",
       "      <td>0</td>\n",
       "      <td>0</td>\n",
       "      <td>0</td>\n",
       "      <td>0</td>\n",
       "    </tr>\n",
       "    <tr>\n",
       "      <td>4</td>\n",
       "      <td>7.5</td>\n",
       "      <td>0</td>\n",
       "      <td>0</td>\n",
       "      <td>0</td>\n",
       "      <td>0</td>\n",
       "      <td>0</td>\n",
       "      <td>0</td>\n",
       "      <td>1</td>\n",
       "      <td>0</td>\n",
       "      <td>0</td>\n",
       "      <td>...</td>\n",
       "      <td>1</td>\n",
       "      <td>0</td>\n",
       "      <td>0</td>\n",
       "      <td>0</td>\n",
       "      <td>0</td>\n",
       "      <td>0</td>\n",
       "      <td>1</td>\n",
       "      <td>0</td>\n",
       "      <td>0</td>\n",
       "      <td>0</td>\n",
       "    </tr>\n",
       "    <tr>\n",
       "      <td>...</td>\n",
       "      <td>...</td>\n",
       "      <td>...</td>\n",
       "      <td>...</td>\n",
       "      <td>...</td>\n",
       "      <td>...</td>\n",
       "      <td>...</td>\n",
       "      <td>...</td>\n",
       "      <td>...</td>\n",
       "      <td>...</td>\n",
       "      <td>...</td>\n",
       "      <td>...</td>\n",
       "      <td>...</td>\n",
       "      <td>...</td>\n",
       "      <td>...</td>\n",
       "      <td>...</td>\n",
       "      <td>...</td>\n",
       "      <td>...</td>\n",
       "      <td>...</td>\n",
       "      <td>...</td>\n",
       "      <td>...</td>\n",
       "      <td>...</td>\n",
       "    </tr>\n",
       "    <tr>\n",
       "      <td>1001</td>\n",
       "      <td>10.0</td>\n",
       "      <td>0</td>\n",
       "      <td>0</td>\n",
       "      <td>0</td>\n",
       "      <td>0</td>\n",
       "      <td>1</td>\n",
       "      <td>0</td>\n",
       "      <td>0</td>\n",
       "      <td>0</td>\n",
       "      <td>0</td>\n",
       "      <td>...</td>\n",
       "      <td>0</td>\n",
       "      <td>0</td>\n",
       "      <td>0</td>\n",
       "      <td>0</td>\n",
       "      <td>0</td>\n",
       "      <td>0</td>\n",
       "      <td>1</td>\n",
       "      <td>0</td>\n",
       "      <td>0</td>\n",
       "      <td>0</td>\n",
       "    </tr>\n",
       "    <tr>\n",
       "      <td>1002</td>\n",
       "      <td>9.5</td>\n",
       "      <td>0</td>\n",
       "      <td>1</td>\n",
       "      <td>0</td>\n",
       "      <td>0</td>\n",
       "      <td>0</td>\n",
       "      <td>0</td>\n",
       "      <td>0</td>\n",
       "      <td>0</td>\n",
       "      <td>0</td>\n",
       "      <td>...</td>\n",
       "      <td>0</td>\n",
       "      <td>0</td>\n",
       "      <td>0</td>\n",
       "      <td>0</td>\n",
       "      <td>0</td>\n",
       "      <td>0</td>\n",
       "      <td>1</td>\n",
       "      <td>0</td>\n",
       "      <td>0</td>\n",
       "      <td>0</td>\n",
       "    </tr>\n",
       "    <tr>\n",
       "      <td>1003</td>\n",
       "      <td>7.5</td>\n",
       "      <td>0</td>\n",
       "      <td>0</td>\n",
       "      <td>0</td>\n",
       "      <td>1</td>\n",
       "      <td>0</td>\n",
       "      <td>0</td>\n",
       "      <td>0</td>\n",
       "      <td>0</td>\n",
       "      <td>0</td>\n",
       "      <td>...</td>\n",
       "      <td>0</td>\n",
       "      <td>1</td>\n",
       "      <td>0</td>\n",
       "      <td>0</td>\n",
       "      <td>1</td>\n",
       "      <td>0</td>\n",
       "      <td>0</td>\n",
       "      <td>0</td>\n",
       "      <td>0</td>\n",
       "      <td>0</td>\n",
       "    </tr>\n",
       "    <tr>\n",
       "      <td>1004</td>\n",
       "      <td>8.0</td>\n",
       "      <td>0</td>\n",
       "      <td>0</td>\n",
       "      <td>0</td>\n",
       "      <td>0</td>\n",
       "      <td>0</td>\n",
       "      <td>0</td>\n",
       "      <td>0</td>\n",
       "      <td>0</td>\n",
       "      <td>1</td>\n",
       "      <td>...</td>\n",
       "      <td>0</td>\n",
       "      <td>0</td>\n",
       "      <td>0</td>\n",
       "      <td>0</td>\n",
       "      <td>0</td>\n",
       "      <td>0</td>\n",
       "      <td>1</td>\n",
       "      <td>0</td>\n",
       "      <td>0</td>\n",
       "      <td>0</td>\n",
       "    </tr>\n",
       "    <tr>\n",
       "      <td>1005</td>\n",
       "      <td>7.5</td>\n",
       "      <td>0</td>\n",
       "      <td>0</td>\n",
       "      <td>0</td>\n",
       "      <td>0</td>\n",
       "      <td>0</td>\n",
       "      <td>1</td>\n",
       "      <td>0</td>\n",
       "      <td>0</td>\n",
       "      <td>0</td>\n",
       "      <td>...</td>\n",
       "      <td>0</td>\n",
       "      <td>0</td>\n",
       "      <td>0</td>\n",
       "      <td>0</td>\n",
       "      <td>1</td>\n",
       "      <td>0</td>\n",
       "      <td>0</td>\n",
       "      <td>0</td>\n",
       "      <td>0</td>\n",
       "      <td>0</td>\n",
       "    </tr>\n",
       "  </tbody>\n",
       "</table>\n",
       "<p>1006 rows × 33 columns</p>\n",
       "</div>"
      ],
      "text/plain": [
       "      Size  Brand_Adidas  Brand_Asics  Brand_Converse  Brand_Fila  \\\n",
       "0     10.0             0            0               0           0   \n",
       "1      9.5             1            0               0           0   \n",
       "2     11.0             0            0               0           0   \n",
       "3      8.0             0            0               1           0   \n",
       "4      7.5             0            0               0           0   \n",
       "...    ...           ...          ...             ...         ...   \n",
       "1001  10.0             0            0               0           0   \n",
       "1002   9.5             0            1               0           0   \n",
       "1003   7.5             0            0               0           1   \n",
       "1004   8.0             0            0               0           0   \n",
       "1005   7.5             0            0               0           0   \n",
       "\n",
       "      Brand_New Balance  Brand_Nike  Brand_Puma  Brand_Reebok  Brand_Skechers  \\\n",
       "0                     0           1           0             0               0   \n",
       "1                     0           0           0             0               0   \n",
       "2                     0           0           0             1               0   \n",
       "3                     0           0           0             0               0   \n",
       "4                     0           0           1             0               0   \n",
       "...                 ...         ...         ...           ...             ...   \n",
       "1001                  1           0           0             0               0   \n",
       "1002                  0           0           0             0               0   \n",
       "1003                  0           0           0             0               0   \n",
       "1004                  0           0           0             0               1   \n",
       "1005                  0           1           0             0               0   \n",
       "\n",
       "      ...  Color_pink  Color_white  Material_canvas  Material_knit  \\\n",
       "0     ...           0            0                0              0   \n",
       "1     ...           0            0                0              0   \n",
       "2     ...           0            1                0              0   \n",
       "3     ...           0            0                1              0   \n",
       "4     ...           1            0                0              0   \n",
       "...   ...         ...          ...              ...            ...   \n",
       "1001  ...           0            0                0              0   \n",
       "1002  ...           0            0                0              0   \n",
       "1003  ...           0            1                0              0   \n",
       "1004  ...           0            0                0              0   \n",
       "1005  ...           0            0                0              0   \n",
       "\n",
       "      Material_leather  Material_nylon  Material_other  Material_primeknit  \\\n",
       "0                    1               0               0                   0   \n",
       "1                    0               0               0                   1   \n",
       "2                    1               0               0                   0   \n",
       "3                    0               0               0                   0   \n",
       "4                    0               0               1                   0   \n",
       "...                ...             ...             ...                 ...   \n",
       "1001                 0               0               1                   0   \n",
       "1002                 0               0               1                   0   \n",
       "1003                 1               0               0                   0   \n",
       "1004                 0               0               1                   0   \n",
       "1005                 1               0               0                   0   \n",
       "\n",
       "      Material_suede  Material_synthetic  \n",
       "0                  0                   0  \n",
       "1                  0                   0  \n",
       "2                  0                   0  \n",
       "3                  0                   0  \n",
       "4                  0                   0  \n",
       "...              ...                 ...  \n",
       "1001               0                   0  \n",
       "1002               0                   0  \n",
       "1003               0                   0  \n",
       "1004               0                   0  \n",
       "1005               0                   0  \n",
       "\n",
       "[1006 rows x 33 columns]"
      ]
     },
     "execution_count": 58,
     "metadata": {},
     "output_type": "execute_result"
    }
   ],
   "source": [
    "# Définir la variable X en supprimant la colonne 'Price (USD)' du jeu de données des chaussures\n",
    "x = shoes_dataset.drop('Price (USD)', axis=1)\n",
    "x\n"
   ]
  },
  {
   "cell_type": "code",
   "execution_count": 59,
   "metadata": {},
   "outputs": [
    {
     "data": {
      "text/plain": [
       "0       170.0\n",
       "1       180.0\n",
       "2        75.0\n",
       "3        55.0\n",
       "4        80.0\n",
       "        ...  \n",
       "1001    130.0\n",
       "1002    160.0\n",
       "1003     70.0\n",
       "1004     55.0\n",
       "1005    170.0\n",
       "Name: Price (USD), Length: 1006, dtype: float64"
      ]
     },
     "execution_count": 59,
     "metadata": {},
     "output_type": "execute_result"
    }
   ],
   "source": [
    "# Définir la variable y comme la colonne 'Price (USD)' du jeu de données des chaussures\n",
    "y = shoes_dataset['Price (USD)']\n",
    "y\n"
   ]
  },
  {
   "cell_type": "code",
   "execution_count": null,
   "metadata": {},
   "outputs": [],
   "source": []
  },
  {
   "cell_type": "code",
   "execution_count": null,
   "metadata": {},
   "outputs": [],
   "source": []
  }
 ],
 "metadata": {
  "celltoolbar": "Format de la Cellule Texte Brut",
  "kernelspec": {
   "display_name": "Python 3",
   "language": "python",
   "name": "python3"
  },
  "language_info": {
   "codemirror_mode": {
    "name": "ipython",
    "version": 3
   },
   "file_extension": ".py",
   "mimetype": "text/x-python",
   "name": "python",
   "nbconvert_exporter": "python",
   "pygments_lexer": "ipython3",
   "version": "3.7.4"
  }
 },
 "nbformat": 4,
 "nbformat_minor": 2
}
