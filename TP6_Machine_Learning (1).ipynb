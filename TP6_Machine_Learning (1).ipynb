{
 "cells": [
  {
   "cell_type": "markdown",
   "metadata": {
    "id": "vBY1Vdsp00eN"
   },
   "source": [
    "<center><h1> Corréction Série de Travaux Pratiques N° 6 - Machine Learning </h1></center>\n",
    "<center><h2> Regression Logistique</h2></center>\n",
    "\n",
    "---\n",
    "\n"
   ]
  },
  {
   "cell_type": "markdown",
   "metadata": {
    "id": "2xIqBKf-_MK9"
   },
   "source": [
    "# **Partie I : Regression Logistique**"
   ]
  },
  {
   "cell_type": "markdown",
   "metadata": {
    "id": "2OT_v-xSH8NW"
   },
   "source": [
    "Vous trouverez ci-joint un exemple d'utilisation d'algorithme de regréssion logistique avec les quatres étapes principales."
   ]
  },
  {
   "cell_type": "code",
   "execution_count": null,
   "metadata": {
    "id": "JhmrQYpLAkeD"
   },
   "outputs": [],
   "source": [
    "# Step 1: Import packages, functions\n",
    "import numpy as np\n",
    "from sklearn.linear_model import LogisticRegression\n",
    "from sklearn.metrics import classification_report, confusion_matrix\n",
    "\n",
    "# Step 2: Get data\n",
    "x = np.arange(10).reshape(-1, 1)\n",
    "y = np.array([0, 1, 0, 0, 1, 1, 1, 1, 1, 1])\n",
    "\n",
    "# Step 3: Create a model and train it\n",
    "model = LogisticRegression(solver='liblinear', C=10.0, random_state=0, max_iter=100)\n",
    "model.fit(x, y)\n",
    "\n",
    "# Step 4: Evaluate the model\n",
    "p_pred = model.predict_proba(x)\n",
    "y_pred = model.predict(x)\n",
    "score_ = model.score(x, y)\n",
    "conf_m = confusion_matrix(y, y_pred)\n",
    "report = classification_report(y, y_pred)"
   ]
  },
  {
   "cell_type": "code",
   "execution_count": null,
   "metadata": {
    "colab": {
     "base_uri": "https://localhost:8080/"
    },
    "id": "Jl6j49CVBPZy",
    "outputId": "1fbd1535-bc83-4900-ad7d-5282b5b93143"
   },
   "outputs": [
    {
     "name": "stdout",
     "output_type": "stream",
     "text": [
      "x: [[0]\n",
      " [1]\n",
      " [2]\n",
      " [3]\n",
      " [4]\n",
      " [5]\n",
      " [6]\n",
      " [7]\n",
      " [8]\n",
      " [9]]\n",
      "y: [0 1 0 0 1 1 1 1 1 1]\n",
      "intercept: [-1.51632619]\n",
      "coef: [[0.703457]]\n",
      "p_pred: [[0.81999686 0.18000314]\n",
      " [0.69272057 0.30727943]\n",
      " [0.52732579 0.47267421]\n",
      " [0.35570732 0.64429268]\n",
      " [0.21458576 0.78541424]\n",
      " [0.11910229 0.88089771]\n",
      " [0.06271329 0.93728671]\n",
      " [0.03205032 0.96794968]\n",
      " [0.0161218  0.9838782 ]\n",
      " [0.00804372 0.99195628]]\n",
      "y_pred: [0 0 0 1 1 1 1 1 1 1]\n",
      "score_: 0.8\n",
      "conf_m: [[2 1]\n",
      " [1 6]]\n",
      "report:               precision    recall  f1-score   support\n",
      "\n",
      "           0       0.67      0.67      0.67         3\n",
      "           1       0.86      0.86      0.86         7\n",
      "\n",
      "    accuracy                           0.80        10\n",
      "   macro avg       0.76      0.76      0.76        10\n",
      "weighted avg       0.80      0.80      0.80        10\n",
      "\n"
     ]
    }
   ],
   "source": [
    "print('x:', x)\n",
    "print('y:', y)\n",
    "print('intercept:', model.intercept_)\n",
    "print('coef:', model.coef_)\n",
    "print('p_pred:', p_pred)\n",
    "print('y_pred:', y_pred)\n",
    "print('score_:', score_)\n",
    "print('conf_m:', conf_m)\n",
    "print('report:', report)"
   ]
  },
  {
   "cell_type": "markdown",
   "metadata": {
    "id": "7CRPgzmJAP9p"
   },
   "source": [
    "# **Partie II : Classification Binaire**"
   ]
  },
  {
   "cell_type": "markdown",
   "metadata": {
    "id": "ifx0Fkf3QfMe"
   },
   "source": [
    "L'objectif de l'ensemble de données \"**diabetes.csv**\" est de prédire, sur la base de mesures diagnostiques, si un patient **souffre de diabète ou pas**.\n",
    "\n",
    "Ce dataset contient les caractéristiques suivants\n",
    "\n",
    "**Grossesses**: Nombre de fois enceintes.\n",
    "\n",
    "**Glucose**: concentration plasmatique de glucose à 2 heures lors d'un test oral de tolérance au glucose.\n",
    "\n",
    "**Pression artérielle** : tension artérielle diastolique (mm Hg).\n",
    "\n",
    "**Épaisseur de la peau** : épaisseur du pli cutané du triceps (mm).\n",
    "\n",
    "**Insuline** : insuline sérique de 2 heures (mu U/ml).\n",
    "\n",
    "**IMC** : Indice de masse corporelle (poids en kg/(taille en m)^2).\n",
    "\n",
    "**DiabetesPedigreeFunction** : fonction généalogique du diabète.\n",
    "\n",
    "**Âge** : Âge (ans).\n",
    "\n",
    "**Résultat** : variable de classe (0 ou 1)."
   ]
  },
  {
   "cell_type": "markdown",
   "metadata": {
    "id": "eFizXutMLhX1"
   },
   "source": [
    "### **Questions :**\n",
    "\n",
    "Étape 1 : Importer et afficher et explorer l'ensemble de données \"**diabetes.csv**\"\n",
    "\n",
    "Étape 2 : Créer dépendante d'une variable indépendante et stockée sur les variables X et Y.\n",
    "\n",
    "Étape 3 : Transformer les chaînes en entier.\n",
    "\n",
    "Étape 4 : Divisez les données en ensembles d'entrainement et de test.\n",
    "\n",
    "Étape 5 : Définir l'algorithme de régression logistique.\n",
    "\n",
    "Étape 6 :Tester les données de test en utilisant votre modèle.\n",
    "\n",
    "Étape 7 : Évaluation du modèle.\n",
    "\n",
    "Étape 8 : Prédire avec de nouvelles valeurs."
   ]
  },
  {
   "cell_type": "code",
   "execution_count": 3,
   "metadata": {
    "colab": {
     "base_uri": "https://localhost:8080/"
    },
    "id": "4wlRBxy0D99y",
    "outputId": "cefe284a-c332-46d5-8dd8-cb6ab624d608"
   },
   "outputs": [
    {
     "ename": "ModuleNotFoundError",
     "evalue": "No module named 'google'",
     "output_type": "error",
     "traceback": [
      "\u001b[1;31m---------------------------------------------------------------------------\u001b[0m",
      "\u001b[1;31mModuleNotFoundError\u001b[0m                       Traceback (most recent call last)",
      "\u001b[1;32m<ipython-input-3-f3cb207c0346>\u001b[0m in \u001b[0;36m<module>\u001b[1;34m\u001b[0m\n\u001b[0;32m      1\u001b[0m \u001b[1;31m# # Se connecter\u001b[0m\u001b[1;33m\u001b[0m\u001b[1;33m\u001b[0m\u001b[1;33m\u001b[0m\u001b[0m\n\u001b[1;32m----> 2\u001b[1;33m \u001b[1;32mfrom\u001b[0m \u001b[0mgoogle\u001b[0m\u001b[1;33m.\u001b[0m\u001b[0mcolab\u001b[0m \u001b[1;32mimport\u001b[0m \u001b[0mdrive\u001b[0m\u001b[1;33m\u001b[0m\u001b[1;33m\u001b[0m\u001b[0m\n\u001b[0m\u001b[0;32m      3\u001b[0m \u001b[0mdrive\u001b[0m\u001b[1;33m.\u001b[0m\u001b[0mmount\u001b[0m\u001b[1;33m(\u001b[0m\u001b[1;34m'/content/drive'\u001b[0m\u001b[1;33m)\u001b[0m\u001b[1;33m\u001b[0m\u001b[1;33m\u001b[0m\u001b[0m\n",
      "\u001b[1;31mModuleNotFoundError\u001b[0m: No module named 'google'"
     ]
    }
   ],
   "source": [
    "# # Se connecter\n",
    "from google.colab import drive\n",
    "drive.mount('/content/drive')"
   ]
  },
  {
   "cell_type": "code",
   "execution_count": 4,
   "metadata": {
    "colab": {
     "base_uri": "https://localhost:8080/"
    },
    "id": "O0NC3rVjEMTt",
    "outputId": "c99b0f4b-e00b-4002-b048-7794de9c3307"
   },
   "outputs": [
    {
     "name": "stdout",
     "output_type": "stream",
     "text": [
      "[WinError 3] The system cannot find the path specified: 'drive/My Drive/Colab Notebooks'\n",
      "C:\\Users\\sasuk\n"
     ]
    }
   ],
   "source": [
    "cd drive/My Drive/Colab Notebooks"
   ]
  },
  {
   "cell_type": "code",
   "execution_count": 9,
   "metadata": {
    "id": "_NuxG5qDTWyp"
   },
   "outputs": [],
   "source": [
    "# Binary Classification : Diabetes\n",
    "from pandas import read_csv\n",
    "import matplotlib.pyplot as plt \n",
    "from sklearn.model_selection import train_test_split\n",
    "from sklearn.linear_model import LogisticRegression\n",
    "#from sklearn.preprocessing import LabelEncoder\n",
    "data=read_csv(\"diabetes.csv\")\n",
    "X=data.iloc[:,:-1]\n",
    "y=data.iloc[:,-1]\n",
    "#y = LabelEncoder().fit_transform(y)\n",
    "X_train, X_test, y_train, y_test = train_test_split(X, y, test_size=0.3)\n",
    "\n"
   ]
  },
  {
   "cell_type": "code",
   "execution_count": 13,
   "metadata": {},
   "outputs": [
    {
     "data": {
      "text/plain": [
       "LogisticRegression(C=1.0, class_weight=None, dual=False, fit_intercept=True,\n",
       "                   intercept_scaling=1, l1_ratio=None, max_iter=100,\n",
       "                   multi_class='warn', n_jobs=None, penalty='l2',\n",
       "                   random_state=0, solver='liblinear', tol=0.0001, verbose=0,\n",
       "                   warm_start=False)"
      ]
     },
     "execution_count": 13,
     "metadata": {},
     "output_type": "execute_result"
    }
   ],
   "source": [
    "model = LogisticRegression(solver='liblinear', random_state=0)\n",
    "model.fit(X, y)"
   ]
  },
  {
   "cell_type": "code",
   "execution_count": 16,
   "metadata": {},
   "outputs": [],
   "source": [
    "from sklearn.metrics import classification_report, confusion_matrix\n",
    "p_pred = model.predict_proba(X)\n",
    "y_pred = model.predict(X)\n",
    "score_ = model.score(X, y)\n",
    "conf_m = confusion_matrix(y, y_pred)\n",
    "report = classification_report(y, y_pred)\n"
   ]
  },
  {
   "cell_type": "code",
   "execution_count": 18,
   "metadata": {},
   "outputs": [
    {
     "name": "stdout",
     "output_type": "stream",
     "text": [
      "x:      Pregnancies  Glucose  BloodPressure  SkinThickness  Insulin   BMI  \\\n",
      "0              6      148             72             35        0  33.6   \n",
      "1              1       85             66             29        0  26.6   \n",
      "2              8      183             64              0        0  23.3   \n",
      "3              1       89             66             23       94  28.1   \n",
      "4              0      137             40             35      168  43.1   \n",
      "..           ...      ...            ...            ...      ...   ...   \n",
      "763           10      101             76             48      180  32.9   \n",
      "764            2      122             70             27        0  36.8   \n",
      "765            5      121             72             23      112  26.2   \n",
      "766            1      126             60              0        0  30.1   \n",
      "767            1       93             70             31        0  30.4   \n",
      "\n",
      "     DiabetesPedigreeFunction  Age  \n",
      "0                       0.627   50  \n",
      "1                       0.351   31  \n",
      "2                       0.672   32  \n",
      "3                       0.167   21  \n",
      "4                       2.288   33  \n",
      "..                        ...  ...  \n",
      "763                     0.171   63  \n",
      "764                     0.340   27  \n",
      "765                     0.245   30  \n",
      "766                     0.349   47  \n",
      "767                     0.315   23  \n",
      "\n",
      "[768 rows x 8 columns]\n",
      "y: 0      1\n",
      "1      0\n",
      "2      1\n",
      "3      0\n",
      "4      1\n",
      "      ..\n",
      "763    0\n",
      "764    0\n",
      "765    0\n",
      "766    1\n",
      "767    0\n",
      "Name: Outcome, Length: 768, dtype: int64\n",
      "intercept: [-5.89159518]\n",
      "coef: [[ 1.17052230e-01  2.83873955e-02 -1.68897224e-02  7.55274087e-04\n",
      "  -6.42755924e-04  5.97603789e-02  6.77671880e-01  7.23947807e-03]]\n",
      "p_pred: [[0.35040711 0.64959289]\n",
      " [0.91701929 0.08298071]\n",
      " [0.22474085 0.77525915]\n",
      " ...\n",
      " [0.76731301 0.23268699]\n",
      " [0.69753014 0.30246986]\n",
      " [0.89058125 0.10941875]]\n",
      "y_pred: [1 0 1 0 1 0 0 1 1 0 0 1 1 1 1 1 0 0 0 0 0 0 1 0 1 0 1 0 1 0 0 1 0 0 0 0 1\n",
      " 0 0 0 1 1 0 1 1 1 0 0 0 0 0 0 0 1 1 0 1 0 1 0 0 1 0 0 0 0 0 0 0 0 0 0 1 0\n",
      " 0 0 0 0 1 0 0 0 0 0 1 0 1 0 1 0 0 0 0 0 0 1 0 0 0 0 1 0 0 0 0 0 0 0 0 0 1\n",
      " 1 0 0 1 0 0 0 0 0 1 0 0 0 0 0 0 0 0 0 1 1 1 0 0 0 0 0 0 0 0 0 0 0 1 0 0 0\n",
      " 1 0 0 0 1 0 1 1 0 0 0 1 0 0 0 0 0 0 0 0 0 0 0 1 0 0 0 1 0 1 1 1 0 0 0 0 0\n",
      " 1 1 0 0 0 0 0 1 1 0 1 0 0 0 0 0 0 0 0 0 0 1 1 0 1 0 0 1 0 0 1 0 0 0 0 1 1\n",
      " 1 1 0 0 0 1 1 0 1 1 0 0 0 1 1 1 1 0 0 0 0 0 0 1 0 1 0 0 0 0 0 0 0 0 0 0 1\n",
      " 1 1 1 0 0 0 0 1 1 0 1 1 0 0 0 1 0 0 0 0 0 0 1 0 1 0 0 1 0 0 0 0 0 1 0 0 1\n",
      " 0 0 0 0 1 0 0 0 0 0 1 0 0 0 0 0 0 0 0 0 0 1 0 1 0 0 0 1 0 0 0 1 0 0 0 0 1\n",
      " 0 0 1 1 0 1 1 0 0 0 0 0 0 0 0 0 0 0 0 0 0 0 1 0 1 0 1 1 1 0 1 0 0 0 0 0 0\n",
      " 1 0 0 0 0 1 0 0 1 0 0 0 0 0 0 0 0 0 0 0 0 1 0 0 1 0 0 0 0 1 0 0 0 0 1 0 0\n",
      " 0 1 1 0 0 1 0 0 1 0 1 0 0 0 0 0 0 1 1 0 1 0 0 0 0 0 0 0 1 1 0 0 0 1 0 0 0\n",
      " 0 1 0 0 0 0 0 0 0 0 0 1 0 0 1 1 0 0 0 0 0 0 0 0 1 1 1 0 0 0 0 0 0 0 0 0 1\n",
      " 0 0 0 1 0 0 1 0 1 0 0 0 0 0 1 0 0 1 1 0 0 0 0 0 0 1 0 0 0 0 0 0 0 0 1 1 0\n",
      " 0 0 0 0 0 1 0 0 0 0 0 0 0 0 0 0 0 1 0 0 0 0 0 0 0 0 0 1 1 0 1 1 0 0 0 0 0\n",
      " 0 0 0 1 0 0 1 0 0 0 0 0 0 1 0 0 0 0 0 0 0 0 0 0 1 0 0 0 0 0 0 1 0 1 0 1 0\n",
      " 0 0 0 1 0 0 1 0 0 0 0 1 1 0 1 0 0 0 0 1 1 0 1 0 0 0 0 0 0 0 1 0 0 0 0 0 0\n",
      " 0 0 0 0 0 0 0 0 0 0 0 0 0 0 0 0 0 0 1 0 0 0 0 0 0 0 1 0 0 1 0 1 1 1 1 0 0\n",
      " 0 0 0 1 1 0 0 1 0 1 1 0 0 0 0 1 0 0 0 0 0 0 0 1 0 1 0 1 0 0 1 0 0 1 0 0 1\n",
      " 1 0 0 0 0 1 0 0 0 1 0 0 1 1 0 0 0 0 0 0 0 0 0 0 0 0 0 0 0 1 0 0 0 0 0 0 0\n",
      " 1 0 0 1 1 0 1 0 1 1 1 0 0 1 1 0 0 0 0 1 0 1 0 0 0 0 0 0]\n",
      "score_: 0.7747395833333334\n",
      "conf_m: [[448  52]\n",
      " [121 147]]\n",
      "report:               precision    recall  f1-score   support\n",
      "\n",
      "           0       0.79      0.90      0.84       500\n",
      "           1       0.74      0.55      0.63       268\n",
      "\n",
      "    accuracy                           0.77       768\n",
      "   macro avg       0.76      0.72      0.73       768\n",
      "weighted avg       0.77      0.77      0.77       768\n",
      "\n"
     ]
    }
   ],
   "source": [
    "print('x:', X)\n",
    "print('y:', y)\n",
    "print('intercept:', model.intercept_)\n",
    "print('coef:', model.coef_)\n",
    "print('p_pred:', p_pred)\n",
    "print('y_pred:', y_pred)\n",
    "print('score_:', score_)\n",
    "print('conf_m:', conf_m)\n",
    "print('report:', report)"
   ]
  },
  {
   "cell_type": "code",
   "execution_count": 22,
   "metadata": {},
   "outputs": [
    {
     "name": "stdout",
     "output_type": "stream",
     "text": [
      "Prediction: [0]\n"
     ]
    }
   ],
   "source": [
    "valeur = [[3, 138, 62, 35, 0, 33.6, 0.127, 47]]  \n",
    "\n",
    "new_pred = model.predict(valeur)\n",
    "print(\"Prediction:\", new_pred)"
   ]
  },
  {
   "cell_type": "markdown",
   "metadata": {
    "id": "J3Zbjz_AAZ5l"
   },
   "source": [
    "# **Partie II : Classification Multi-Classe**"
   ]
  },
  {
   "cell_type": "markdown",
   "metadata": {
    "id": "x1NijNx4OpVg"
   },
   "source": [
    "Pour cette partie, on utilisera le **dataset IRIS**. Ce dernier est une base de données regroupant les caractéristiques de **trois espèces de fleurs d’Iris, à savoir Setosa, Versicolour et Virginica**. Chaque ligne de ce jeu de données est une observation des caractéristiques d’une fleur d’Iris. Ce dataset décrit les espèces d’Iris par quatre propriétés : longueur et largeur de sépales ainsi que longueur et largeur de pétales. La base de données comporte 150 observations (50 observations par espèce)."
   ]
  },
  {
   "cell_type": "markdown",
   "metadata": {
    "id": "TSTbiW8UMiPt"
   },
   "source": [
    "### **Questions :**\n",
    "\n",
    "Étape 1 : Importer, afficher et explorer l'ensemble de données \"**iris.csv**\"\n",
    "\n",
    "Étape 2 : Créer dépendante d'une variable indépendante et stockée sur les variables X et Y.\n",
    "\n",
    "Étape 3 : Transformer les chaînes en entier.\n",
    "\n",
    "Étape 4 : Divisez les données en ensembles d'entrainement et de test.\n",
    "\n",
    "Étape 5 : Définir l'algorithme de régression logistique.\n",
    "\n",
    "Étape 6 :Tester les données de test en utilisant votre modèle.\n",
    "\n",
    "Étape 7 : Évaluation du modèle.\n",
    "\n",
    "Étape 8 : Prédire avec de nouvelles valeurs."
   ]
  },
  {
   "cell_type": "code",
   "execution_count": 64,
   "metadata": {
    "id": "P8PUWA4oTlBB"
   },
   "outputs": [
    {
     "data": {
      "text/html": [
       "<div>\n",
       "<style scoped>\n",
       "    .dataframe tbody tr th:only-of-type {\n",
       "        vertical-align: middle;\n",
       "    }\n",
       "\n",
       "    .dataframe tbody tr th {\n",
       "        vertical-align: top;\n",
       "    }\n",
       "\n",
       "    .dataframe thead th {\n",
       "        text-align: right;\n",
       "    }\n",
       "</style>\n",
       "<table border=\"1\" class=\"dataframe\">\n",
       "  <thead>\n",
       "    <tr style=\"text-align: right;\">\n",
       "      <th></th>\n",
       "      <th>sepal.length</th>\n",
       "      <th>sepal.width</th>\n",
       "      <th>petal.length</th>\n",
       "      <th>petal.width</th>\n",
       "      <th>variety</th>\n",
       "    </tr>\n",
       "  </thead>\n",
       "  <tbody>\n",
       "    <tr>\n",
       "      <td>0</td>\n",
       "      <td>5.1</td>\n",
       "      <td>3.5</td>\n",
       "      <td>1.4</td>\n",
       "      <td>0.2</td>\n",
       "      <td>Setosa</td>\n",
       "    </tr>\n",
       "    <tr>\n",
       "      <td>1</td>\n",
       "      <td>4.9</td>\n",
       "      <td>3.0</td>\n",
       "      <td>1.4</td>\n",
       "      <td>0.2</td>\n",
       "      <td>Setosa</td>\n",
       "    </tr>\n",
       "    <tr>\n",
       "      <td>2</td>\n",
       "      <td>4.7</td>\n",
       "      <td>3.2</td>\n",
       "      <td>1.3</td>\n",
       "      <td>0.2</td>\n",
       "      <td>Setosa</td>\n",
       "    </tr>\n",
       "    <tr>\n",
       "      <td>3</td>\n",
       "      <td>4.6</td>\n",
       "      <td>3.1</td>\n",
       "      <td>1.5</td>\n",
       "      <td>0.2</td>\n",
       "      <td>Setosa</td>\n",
       "    </tr>\n",
       "    <tr>\n",
       "      <td>4</td>\n",
       "      <td>5.0</td>\n",
       "      <td>3.6</td>\n",
       "      <td>1.4</td>\n",
       "      <td>0.2</td>\n",
       "      <td>Setosa</td>\n",
       "    </tr>\n",
       "  </tbody>\n",
       "</table>\n",
       "</div>"
      ],
      "text/plain": [
       "   sepal.length  sepal.width  petal.length  petal.width variety\n",
       "0           5.1          3.5           1.4          0.2  Setosa\n",
       "1           4.9          3.0           1.4          0.2  Setosa\n",
       "2           4.7          3.2           1.3          0.2  Setosa\n",
       "3           4.6          3.1           1.5          0.2  Setosa\n",
       "4           5.0          3.6           1.4          0.2  Setosa"
      ]
     },
     "execution_count": 64,
     "metadata": {},
     "output_type": "execute_result"
    }
   ],
   "source": [
    "# Multi-Class Classification : IRIS Dataset\n",
    "Data = read_csv(\"iris.csv\")\n",
    "Data.head()"
   ]
  },
  {
   "cell_type": "code",
   "execution_count": 67,
   "metadata": {},
   "outputs": [],
   "source": [
    "X=Data.iloc[:,:-1]\n",
    "Y=Data.iloc[:,-1]"
   ]
  },
  {
   "cell_type": "code",
   "execution_count": 68,
   "metadata": {},
   "outputs": [],
   "source": [
    "Y = LabelEncoder().fit_transform(Y)"
   ]
  },
  {
   "cell_type": "code",
   "execution_count": 69,
   "metadata": {},
   "outputs": [],
   "source": [
    "X_train, X_test, y_train, y_test = train_test_split(X, Y, test_size=0.3)"
   ]
  },
  {
   "cell_type": "code",
   "execution_count": 76,
   "metadata": {},
   "outputs": [
    {
     "name": "stderr",
     "output_type": "stream",
     "text": [
      "C:\\Users\\sasuk\\Anaconda3\\lib\\site-packages\\sklearn\\linear_model\\logistic.py:469: FutureWarning: Default multi_class will be changed to 'auto' in 0.22. Specify the multi_class option to silence this warning.\n",
      "  \"this warning.\", FutureWarning)\n"
     ]
    },
    {
     "data": {
      "text/plain": [
       "LogisticRegression(C=1.0, class_weight=None, dual=False, fit_intercept=True,\n",
       "                   intercept_scaling=1, l1_ratio=None, max_iter=100,\n",
       "                   multi_class='warn', n_jobs=None, penalty='l2',\n",
       "                   random_state=0, solver='liblinear', tol=0.0001, verbose=0,\n",
       "                   warm_start=False)"
      ]
     },
     "execution_count": 76,
     "metadata": {},
     "output_type": "execute_result"
    }
   ],
   "source": [
    "Regression = LogisticRegression(solver='liblinear', random_state=0)\n",
    "Regression.fit(X,y)"
   ]
  },
  {
   "cell_type": "code",
   "execution_count": 77,
   "metadata": {},
   "outputs": [],
   "source": [
    "p_pred = Regression.predict_proba(X)\n",
    "y_pred = Regression.predict(X)\n",
    "score_ = Regression.score(X, y)\n",
    "conf_m = confusion_matrix(y, y_pred)\n",
    "report = classification_report(y, y_pred)\n"
   ]
  },
  {
   "cell_type": "code",
   "execution_count": 74,
   "metadata": {},
   "outputs": [
    {
     "name": "stdout",
     "output_type": "stream",
     "text": [
      "x:      sepal.length  sepal.width  petal.length  petal.width\n",
      "0             5.1          3.5           1.4          0.2\n",
      "1             4.9          3.0           1.4          0.2\n",
      "2             4.7          3.2           1.3          0.2\n",
      "3             4.6          3.1           1.5          0.2\n",
      "4             5.0          3.6           1.4          0.2\n",
      "..            ...          ...           ...          ...\n",
      "145           6.7          3.0           5.2          2.3\n",
      "146           6.3          2.5           5.0          1.9\n",
      "147           6.5          3.0           5.2          2.0\n",
      "148           6.2          3.4           5.4          2.3\n",
      "149           5.9          3.0           5.1          1.8\n",
      "\n",
      "[150 rows x 4 columns]\n",
      "y: [0 0 0 0 0 0 0 0 0 0 0 0 0 0 0 0 0 0 0 0 0 0 0 0 0 0 0 0 0 0 0 0 0 0 0 0 0\n",
      " 0 0 0 0 0 0 0 0 0 0 0 0 0 1 1 1 1 1 1 1 1 1 1 1 1 1 1 1 1 1 1 1 1 1 1 1 1\n",
      " 1 1 1 1 1 1 1 1 1 1 1 1 1 1 1 1 1 1 1 1 1 1 1 1 1 1 2 2 2 2 2 2 2 2 2 2 2\n",
      " 2 2 2 2 2 2 2 2 2 2 2 2 2 2 2 2 2 2 2 2 2 2 2 2 2 2 2 2 2 2 2 2 2 2 2 2 2\n",
      " 2 2]\n",
      "intercept: [ 0.26421853  1.09392467 -1.21470917]\n",
      "coef: [[ 0.41021713  1.46416217 -2.26003266 -1.02103509]\n",
      " [ 0.4275087  -1.61211605  0.5758173  -1.40617325]\n",
      " [-1.70751526 -1.53427768  2.47096755  2.55537041]]\n",
      "p_pred: [[8.78030305e-01 1.21958900e-01 1.07949250e-05]\n",
      " [7.97058292e-01 2.02911413e-01 3.02949242e-05]\n",
      " [8.51997665e-01 1.47976480e-01 2.58550858e-05]\n",
      " [8.23406019e-01 1.76536159e-01 5.78217704e-05]\n",
      " [8.96034973e-01 1.03953836e-01 1.11907339e-05]\n",
      " [9.26234254e-01 7.37527845e-02 1.29612594e-05]\n",
      " [8.94096848e-01 1.05863935e-01 3.92166195e-05]\n",
      " [8.60034410e-01 1.39946715e-01 1.88751124e-05]\n",
      " [8.01028643e-01 1.98886755e-01 8.46025595e-05]\n",
      " [7.92662392e-01 2.07312003e-01 2.56051563e-05]\n",
      " [8.90486112e-01 1.09507726e-01 6.16178069e-06]\n",
      " [8.61800668e-01 1.38164963e-01 3.43688884e-05]\n",
      " [7.85364369e-01 2.14608265e-01 2.73660893e-05]\n",
      " [8.33122325e-01 1.66845600e-01 3.20746459e-05]\n",
      " [9.27105079e-01 7.28939564e-02 9.65025075e-07]\n",
      " [9.64209783e-01 3.57879589e-02 2.25815135e-06]\n",
      " [9.40244677e-01 5.97504819e-02 4.84124978e-06]\n",
      " [8.90383643e-01 1.09602199e-01 1.41584311e-05]\n",
      " [8.94996432e-01 1.04996803e-01 6.76561305e-06]\n",
      " [9.22818333e-01 7.71698511e-02 1.18163279e-05]\n",
      " [8.28168845e-01 1.71815986e-01 1.51697603e-05]\n",
      " [9.21162903e-01 7.88192700e-02 1.78269001e-05]\n",
      " [9.25830555e-01 7.41609901e-02 8.45537828e-06]\n",
      " [8.66425048e-01 1.33506832e-01 6.81196349e-05]\n",
      " [8.39579062e-01 1.60348453e-01 7.24851587e-05]\n",
      " [7.74387849e-01 2.25570742e-01 4.14089912e-05]\n",
      " [8.80142212e-01 1.19816026e-01 4.17624967e-05]\n",
      " [8.68142117e-01 1.31846325e-01 1.15578057e-05]\n",
      " [8.57981539e-01 1.42008075e-01 1.03858266e-05]\n",
      " [8.30136546e-01 1.69809392e-01 5.40618507e-05]\n",
      " [8.05488891e-01 1.94459296e-01 5.18131431e-05]\n",
      " [8.70807410e-01 1.29176481e-01 1.61085791e-05]\n",
      " [9.33140300e-01 6.68559138e-02 3.78606175e-06]\n",
      " [9.45563050e-01 5.44349664e-02 1.98362125e-06]\n",
      " [8.09104104e-01 1.90862024e-01 3.38721089e-05]\n",
      " [8.45406669e-01 1.54581407e-01 1.19235303e-05]\n",
      " [8.67845100e-01 1.32150712e-01 4.18747716e-06]\n",
      " [8.87815808e-01 1.12174014e-01 1.01779750e-05]\n",
      " [8.29173320e-01 1.70768916e-01 5.77645348e-05]\n",
      " [8.55787332e-01 1.44196849e-01 1.58184132e-05]\n",
      " [8.99021427e-01 1.00965368e-01 1.32051891e-05]\n",
      " [6.87609664e-01 3.12227285e-01 1.63051259e-04]\n",
      " [8.64687415e-01 1.35268656e-01 4.39289817e-05]\n",
      " [9.15725060e-01 8.42126724e-02 6.22672835e-05]\n",
      " [9.14838651e-01 8.51196936e-02 4.16549750e-05]\n",
      " [8.18139824e-01 1.81812290e-01 4.78858984e-05]\n",
      " [9.08802553e-01 9.11858864e-02 1.15610231e-05]\n",
      " [8.49522363e-01 1.50438207e-01 3.94305065e-05]\n",
      " [8.94050930e-01 1.05941728e-01 7.34243342e-06]\n",
      " [8.49541191e-01 1.50441863e-01 1.69463468e-05]\n",
      " [2.96005280e-02 8.61269712e-01 1.09129760e-01]\n",
      " [3.73566204e-02 7.05998640e-01 2.56644739e-01]\n",
      " [1.17188234e-02 7.49180286e-01 2.39100891e-01]\n",
      " [1.32329304e-02 6.52615267e-01 3.34151803e-01]\n",
      " [1.09261044e-02 6.99751683e-01 2.89322212e-01]\n",
      " [1.07475746e-02 5.83523451e-01 4.05728975e-01]\n",
      " [2.15536329e-02 5.37367355e-01 4.41079012e-01]\n",
      " [1.07796125e-01 7.69764033e-01 1.22439842e-01]\n",
      " [1.75648125e-02 8.28471633e-01 1.53963555e-01]\n",
      " [3.31000964e-02 5.28434824e-01 4.38465079e-01]\n",
      " [2.90940948e-02 7.73621445e-01 1.97284460e-01]\n",
      " [4.09552911e-02 6.19782220e-01 3.39262489e-01]\n",
      " [1.93064131e-02 8.80411764e-01 1.00281823e-01]\n",
      " [8.71111808e-03 5.97119816e-01 3.94169066e-01]\n",
      " [1.66935421e-01 7.13419402e-01 1.19645177e-01]\n",
      " [4.71498045e-02 8.44539593e-01 1.08310603e-01]\n",
      " [1.22914643e-02 4.23221121e-01 5.64487414e-01]\n",
      " [3.81169424e-02 8.51071811e-01 1.10811246e-01]\n",
      " [3.08282665e-03 5.97230434e-01 3.99686739e-01]\n",
      " [3.56967896e-02 8.09665888e-01 1.54637322e-01]\n",
      " [6.24630686e-03 2.71625774e-01 7.22127920e-01]\n",
      " [5.76762120e-02 8.20642529e-01 1.21681259e-01]\n",
      " [1.95123191e-03 5.34646840e-01 4.63401928e-01]\n",
      " [8.72420378e-03 7.05586974e-01 2.85688822e-01]\n",
      " [3.66059277e-02 8.39899070e-01 1.23495002e-01]\n",
      " [3.58881987e-02 8.29637761e-01 1.34474040e-01]\n",
      " [8.07402014e-03 7.78160148e-01 2.13765831e-01]\n",
      " [4.63306706e-03 5.23640589e-01 4.71726344e-01]\n",
      " [1.33399755e-02 5.63479864e-01 4.23180160e-01]\n",
      " [1.27116911e-01 8.32931303e-01 3.99517868e-02]\n",
      " [3.58104443e-02 8.04137922e-01 1.60051633e-01]\n",
      " [5.00338269e-02 8.47112731e-01 1.02853442e-01]\n",
      " [5.65602460e-02 8.12180151e-01 1.31259603e-01]\n",
      " [1.22599564e-03 3.99303559e-01 5.99470445e-01]\n",
      " [1.03590059e-02 3.64040618e-01 6.25600376e-01]\n",
      " [4.19275526e-02 4.76596179e-01 4.81476269e-01]\n",
      " [1.89485725e-02 7.46442362e-01 2.34609065e-01]\n",
      " [6.99117780e-03 7.57889791e-01 2.35119031e-01]\n",
      " [5.57046086e-02 6.67601538e-01 2.76693853e-01]\n",
      " [2.10040955e-02 6.63077802e-01 3.15918102e-01]\n",
      " [8.95358807e-03 6.00417365e-01 3.90629047e-01]\n",
      " [1.51849311e-02 6.32849506e-01 3.51965563e-01]\n",
      " [3.45147534e-02 7.99531968e-01 1.65953279e-01]\n",
      " [9.08897829e-02 7.96946159e-01 1.12164059e-01]\n",
      " [1.97905433e-02 6.41453325e-01 3.38756132e-01]\n",
      " [4.79463041e-02 7.31607407e-01 2.20446289e-01]\n",
      " [3.43786632e-02 6.77926137e-01 2.87695200e-01]\n",
      " [3.36527705e-02 7.97759624e-01 1.68587605e-01]\n",
      " [2.53176193e-01 6.92330452e-01 5.44933549e-02]\n",
      " [3.62293481e-02 7.04841253e-01 2.58929399e-01]\n",
      " [1.88584495e-04 1.46372620e-01 8.53438796e-01]\n",
      " [8.14030927e-04 2.93447140e-01 7.05738829e-01]\n",
      " [2.79000675e-04 3.30239074e-01 6.69481925e-01]\n",
      " [4.58010577e-04 3.38339912e-01 6.61202077e-01]\n",
      " [2.53414333e-04 2.55714364e-01 7.44032222e-01]\n",
      " [6.04096412e-05 3.82917567e-01 6.17022023e-01]\n",
      " [2.06351241e-03 2.79806199e-01 7.18130289e-01]\n",
      " [1.23117341e-04 4.24934867e-01 5.74942016e-01]\n",
      " [1.59900415e-04 4.23615517e-01 5.76224583e-01]\n",
      " [3.59862147e-04 1.50750096e-01 8.48890041e-01]\n",
      " [3.01206048e-03 2.76860976e-01 7.20126963e-01]\n",
      " [6.46894500e-04 3.55513745e-01 6.43839361e-01]\n",
      " [6.83917045e-04 2.98193127e-01 7.01122956e-01]\n",
      " [6.32648495e-04 2.95768393e-01 7.03598958e-01]\n",
      " [6.18169454e-04 1.72425080e-01 8.26956751e-01]\n",
      " [1.10759845e-03 1.71476162e-01 8.27416239e-01]\n",
      " [8.01410072e-04 3.48670193e-01 6.50528397e-01]\n",
      " [1.94621163e-04 2.37367517e-01 7.62437862e-01]\n",
      " [1.30336939e-05 4.20322938e-01 5.79664028e-01]\n",
      " [6.79992906e-04 4.70615141e-01 5.28704866e-01]\n",
      " [5.08108403e-04 2.23925960e-01 7.75565932e-01]\n",
      " [1.35050479e-03 2.28520314e-01 7.70129181e-01]\n",
      " [3.81823791e-05 4.28497457e-01 5.71464360e-01]\n",
      " [2.05513546e-03 4.00468848e-01 5.97476017e-01]\n",
      " [6.82426332e-04 2.35908846e-01 7.63408727e-01]\n",
      " [4.56419242e-04 3.97832643e-01 6.01710938e-01]\n",
      " [3.20523990e-03 3.83614307e-01 6.13180453e-01]\n",
      " [3.43775514e-03 3.26737167e-01 6.69825078e-01]\n",
      " [3.02387244e-04 2.97387632e-01 7.02309980e-01]\n",
      " [6.75745429e-04 5.11618205e-01 4.87706049e-01]\n",
      " [1.61467286e-04 4.28548421e-01 5.71290112e-01]\n",
      " [6.45929280e-04 3.44604031e-01 6.54750040e-01]\n",
      " [2.77285011e-04 2.76854155e-01 7.22868560e-01]\n",
      " [2.07366663e-03 4.91252488e-01 5.06673845e-01]\n",
      " [3.54387390e-04 4.43072814e-01 5.56572798e-01]\n",
      " [1.82369410e-04 3.41966166e-01 6.57851465e-01]\n",
      " [6.38376976e-04 1.26565896e-01 8.72795727e-01]\n",
      " [9.25543173e-04 3.20314461e-01 6.78759996e-01]\n",
      " [4.31282889e-03 3.17469066e-01 6.78218105e-01]\n",
      " [1.17132006e-03 3.00300498e-01 6.98528182e-01]\n",
      " [4.50214297e-04 2.00800053e-01 7.98749733e-01]\n",
      " [2.16404408e-03 2.47613735e-01 7.50222221e-01]\n",
      " [8.14030927e-04 2.93447140e-01 7.05738829e-01]\n",
      " [2.93581038e-04 2.23396734e-01 7.76309685e-01]\n",
      " [4.55252466e-04 1.52049282e-01 8.47495466e-01]\n",
      " [1.16468551e-03 2.32330147e-01 7.66505167e-01]\n",
      " [9.20404029e-04 3.79262991e-01 6.19816605e-01]\n",
      " [1.46454826e-03 2.97584288e-01 7.00951164e-01]\n",
      " [1.10985568e-03 1.29831848e-01 8.69058297e-01]\n",
      " [1.69378510e-03 2.79973392e-01 7.18332822e-01]]\n",
      "y_pred: [0 0 0 0 0 0 0 0 0 0 0 0 0 0 0 0 0 0 0 0 0 0 0 0 0 0 0 0 0 0 0 0 0 0 0 0 0\n",
      " 0 0 0 0 0 0 0 0 0 0 0 0 0 1 1 1 1 1 1 1 1 1 1 1 1 1 1 1 1 2 1 1 1 2 1 1 1\n",
      " 1 1 1 1 1 1 1 1 1 2 2 2 1 1 1 1 1 1 1 1 1 1 1 1 1 1 2 2 2 2 2 2 2 2 2 2 2\n",
      " 2 2 2 2 2 2 2 2 2 2 2 2 2 2 2 2 2 2 1 2 2 2 2 2 2 2 2 2 2 2 2 2 2 2 2 2 2\n",
      " 2 2]\n",
      "score_: 0.96\n",
      "conf_m: [[50  0  0]\n",
      " [ 0 45  5]\n",
      " [ 0  1 49]]\n",
      "report:               precision    recall  f1-score   support\n",
      "\n",
      "           0       1.00      1.00      1.00        50\n",
      "           1       0.98      0.90      0.94        50\n",
      "           2       0.91      0.98      0.94        50\n",
      "\n",
      "    accuracy                           0.96       150\n",
      "   macro avg       0.96      0.96      0.96       150\n",
      "weighted avg       0.96      0.96      0.96       150\n",
      "\n"
     ]
    }
   ],
   "source": [
    "print('x:', X)\n",
    "print('y:', y)\n",
    "print('intercept:', Regression.intercept_)\n",
    "print('coef:', Regression.coef_)\n",
    "print('p_pred:', p_pred)\n",
    "print('y_pred:', y_pred)\n",
    "print('score_:', score_)\n",
    "print('conf_m:', conf_m)\n",
    "print('report:', report)"
   ]
  },
  {
   "cell_type": "code",
   "execution_count": 79,
   "metadata": {},
   "outputs": [
    {
     "name": "stdout",
     "output_type": "stream",
     "text": [
      "Prediction: [2]\n"
     ]
    }
   ],
   "source": [
    "val = [[5.9, 3.0, 5.1, 1.8]]  \n",
    "\n",
    "new_pred = Regression.predict(val)\n",
    "print(\"Prediction:\", new_pred)"
   ]
  },
  {
   "cell_type": "code",
   "execution_count": null,
   "metadata": {},
   "outputs": [],
   "source": []
  },
  {
   "cell_type": "code",
   "execution_count": null,
   "metadata": {},
   "outputs": [],
   "source": []
  },
  {
   "cell_type": "code",
   "execution_count": null,
   "metadata": {},
   "outputs": [],
   "source": []
  }
 ],
 "metadata": {
  "colab": {
   "provenance": []
  },
  "kernelspec": {
   "display_name": "Python 3",
   "language": "python",
   "name": "python3"
  },
  "language_info": {
   "codemirror_mode": {
    "name": "ipython",
    "version": 3
   },
   "file_extension": ".py",
   "mimetype": "text/x-python",
   "name": "python",
   "nbconvert_exporter": "python",
   "pygments_lexer": "ipython3",
   "version": "3.7.4"
  }
 },
 "nbformat": 4,
 "nbformat_minor": 1
}
